{
 "cells": [
  {
   "cell_type": "markdown",
   "metadata": {},
   "source": [
    "# 1.  Who We Are and Who Is Our Client \n",
    "\n",
    "Our team at General Assembly has partnered with a client - [New Light Technologies (NLT)](https://www.linkedin.com/company/new-light-technologies/) -  a consulting company which provides solutions to government, commercial, and non-profit organizations. NLT is currently working with [Federal Emergency Management Agency (FEMA)](https://en.wikipedia.org/wiki/Federal_Emergency_Management_Agency) - a government organization which coordinates the response to a disaster that has occurred in the United States and that overwhelms the resources of local and state authorities. Here at General Assembly, our goal is to use our data science expertise to assist NLT in finding good quality solutions and making data-driven recommendations to the problems they wish to solve for FEMA. \n",
    "\n"
   ]
  },
  {
   "cell_type": "markdown",
   "metadata": {},
   "source": [
    "# 2. Problem Statement\n",
    "\n",
    "![cal_wildfires](../images/cal_wildfires.png)\n",
    "\n",
    "### The Pressing Problem That Needs Immediate Attention \n",
    "\n",
    "The 2018 wildfire season was the deadliest and most destructive wildfire season on record in California, with a total of 8,527 fires burning an area of 1,893,913 acres (766,439 ha), the largest amount of burned acreage recorded in a fire season, according to the California Department of Forestry and Fire Protection. [Source](https://en.wikipedia.org/wiki/2018_California_wildfires)\n",
    "\n",
    "The issue of wildfires in California is pressing and urgent: wildfires in California are becoming increasingly common due to a variety of factors:\n",
    "<br/>\n",
    "- Climate change\n",
    "<br/>\n",
    "- Drought Frequency & Seasonal Rains\n",
    "<br/>\n",
    "- Human Causal Factors\n",
    "<br/>\n",
    "- Historical Forest Mismanagement Issues \n",
    "<br/>\n",
    "- Increased population in vulnerable areas\n",
    "\n",
    "Given that it is FEMA's purpose to provide financial assistance to states and local-governments in order to help repair and rebuild damage done to infrastructure, homes and victims of natural disasters, it would be useful for FEMA to have a model which will predict the dollar amount of damage due to wildfires. With such a model, FEMA would be able to better allocate and budget resources in advance to ensure that enough assistance is available when such a disaster occurs. "
   ]
  },
  {
   "cell_type": "markdown",
   "metadata": {},
   "source": [
    "### The Problem We Wish to \n",
    "\n",
    "### Our goal at General Assembly is to build a model for FEMA which will predict the dollar amount of damage done to specific counties within the state of California due to wildfires\n",
    "\n",
    "The target variable being the dollar amount vallue of damages caused by wildfires. This is a continuous variable, therefore our approach is to solve this as a supervised learning regression problem. We considered turning this into a classification problem where the target variable would be binned into categoricacl ranges of dollar amounts due to damage, but found that this approach may not be ideal as information would be lost during such a conversion. "
   ]
  },
  {
   "cell_type": "markdown",
   "metadata": {},
   "source": [
    "# 3. Data Collection\n",
    "\n",
    "### Primary source of data:\n",
    "\n",
    "[Cal Fire Red books](https://www.fire.ca.gov/fire_protection/fire_protection_fire_info_redbooks). \n",
    "This data contained detailed statistics concerning fires within several counties (but not all of them). At a high level, the statistics are the dollar damage, dollar damage by cause, acreage burned and a variety of causes for fires, number of fire merged together to create the dataset used in this project: \n",
    "\n",
    "![num_fires_cause](../images/num_fires_cause.png)\n",
    "![num_fires_size](../images/num_fires_size.png)\n",
    "![num_acres_veg](../images/num_acres_veg.png)\n",
    "![num_acres_cause](../images/num_acres_cause.png)\n",
    "![dollar_dam_cause](../images/dollar_dam_cause.png)\n",
    "![dollar_dam_size](../images/dollar_dam_size.png)\n",
    "\n",
    "Each file was in a pdf format and there was an individual PDF file for each data categories above, for each year and for each region of the state (northern/southern). In summary, there were a total of 84 PDF data files that were combined together to create a dataset with the relevant statistics for all counties in Caliofornia for the years 2010-2016 inclusive. \n",
    "<br/>\n",
    "<br/>\n",
    "### Secondary sources of data: \n",
    "\n",
    "- [Yelp](https://www.yelp.com/search?find_desc=RV%20Parks&find_loc=Yolo%20County%2C%20CA&cflt=rvparks%2Ccampgrounds)\n",
    "\n",
    "Number of Campsites/RV Parks per County\n",
    "\n",
    "- [National Oceanic and Atmospheric Administration(NOAA)](https://www.ncdc.noaa.gov/cdo-web/search)\n",
    "\n",
    "Weather data\n",
    "\n",
    "- [National Census Bureau/Wikipedia](https://en.wikipedia.org/wiki/List_of_counties_in_California)\n",
    "\n",
    "Population per county\n",
    "\n",
    "Area per county \n",
    "\n",
    "- [Zillow](https://www.zillow.com/research/data/)\n",
    "\n",
    "Median house value per sq ft\n",
    "\n",
    "- [Bureau of Economic Analyses/Department of Commerce](https://www.bea.gov/data/gdp/gdp-county)\n",
    "\n",
    "GDP per county \n",
    "\n",
    "- [CalLands](https://callands.ucanr.edu/data.html)\n",
    "\n",
    "Percentages of wilderness vs developed land in a given county \n",
    "\n",
    "\n",
    "### Why we chose the additional secondary sources\n",
    "\n",
    "The primary data source did not prove to be sufficient in making reliable predictions, therefore this data needed to be supplemented with other variables which were determined to be of importance in determining the likelihood of a fire spreading to a certain degree of areal expanse. \n",
    "\n",
    "The combination of data from the above sources included county details with value per square foot, population and area size. It was determined that relative 'afluence' of a county can be an important feature in predicting how much damages to that county are going to cost. While 'afluence' was not a single feature in our dataset, we approximated a county's affluence by combining variables such as GDP per capita, median house income, median family income. This was gathered from Wikipedia which in turn was gathered from the United States Census Bureau. \n",
    "\n",
    "The number of campgrounds and forests were also gathered up since it is believed that a good amount of fires originate from campgrounds. This information was gathered from Yelp.\n",
    "Historical weather data was gathered from the National Oceanic and Atmospheric Administration (NOAA). The data that was usable from here was average wind speed, precipitation, snowfall, average temperature, maximum temperature. \n",
    "\n",
    "The percentage of wilderness was determined to have a large impact on the total cost of damages: a large wildfire which spreads in a forest area away from human population and well developed infrastructure is likely not to cost as much as a fire of relative size within densly populated and built-up areas. "
   ]
  },
  {
   "cell_type": "markdown",
   "metadata": {},
   "source": [
    "# 4. Feature Engineering and Feature Elimination "
   ]
  },
  {
   "cell_type": "markdown",
   "metadata": {},
   "source": [
    "Due to the fact that this project was a group effort which required a significant amount of inter-team coordination, the majority of feature engineering was conducted in excel as this approach proved to have fast-processing advantages that worked overall better for the team. \n",
    "\n",
    "### Feature Elimination\n",
    "\n",
    "After collecting and combining all the data, some EDA and visualization was done to determine what features are important to keep in the modeling process and what features are best to be eliminated from the dataset. \n",
    "\n",
    "A variety of features were dropped due to the following reasons: \n",
    "    - Low variance of feature \n",
    "    - very large number of NaNs that could not be filled strategically\n",
    "    - Unimportant features which did not have any correlation with the target variable\n",
    "    \n",
    "    \n",
    "All features that had any masure of dollar amounts in them that were contributing factors to the total cost of damages where completeley dropped. Such features were components of the actual target variable we wish to predict and would falsely increase the performance of the model.\n",
    "\n",
    "\n",
    "### Handling Missing Values \n",
    "\n",
    "1. For weather data, we filled missing values that got lost in merging dataframes by original values.\n",
    "2. For truely missing values in the weather data, we used the average of other years if there's just 1 or 2 data points missing, and if all years are missing we used the average of surrounding county's data for that certain year. \n",
    "3. For processing data from each county for weather,  all data was averaged between all the stations that were within a county. So we flattened each county's stations into a single row per year.\n",
    "\n",
    "\n",
    "\n",
    "### Interaction Terms\n",
    "\n",
    "\n",
    "A few interaction terms were introduced by combining two or more features (or sums/averages thereof)in a logical conjunction (AND statement) and tested for improved correlations with the target variable. Among such interaction terms are the following: \n",
    "- Range of acres burned AND the total number of fires within the area\n",
    "- Population density was calculated by dividing the county population value by the county's area\n",
    "- Total number of fires within a given year in a given county\n",
    "- The percentage developed land was calculated by subtracting the percent forest/park land area from 1 per county. **Note**: \"grassland\" and \"water\" weren't considered here, therefore the calculated percentage of developed land is a very broad approximation derived from information that is not complete. "
   ]
  }
 ],
 "metadata": {
  "kernelspec": {
   "display_name": "Python 3",
   "language": "python",
   "name": "python3"
  },
  "language_info": {
   "codemirror_mode": {
    "name": "ipython",
    "version": 3
   },
   "file_extension": ".py",
   "mimetype": "text/x-python",
   "name": "python",
   "nbconvert_exporter": "python",
   "pygments_lexer": "ipython3",
   "version": "3.6.5"
  }
 },
 "nbformat": 4,
 "nbformat_minor": 2
}
