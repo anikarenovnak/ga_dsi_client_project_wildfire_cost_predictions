{
 "cells": [
  {
   "cell_type": "markdown",
   "metadata": {},
   "source": [
    "# 2013 and 2014 Merge Code"
   ]
  },
  {
   "cell_type": "code",
   "execution_count": 1,
   "metadata": {},
   "outputs": [],
   "source": [
    "import pandas as pd\n"
   ]
  },
  {
   "cell_type": "code",
   "execution_count": 91,
   "metadata": {},
   "outputs": [],
   "source": [
    "df_2013_fire_cause = pd.read_csv('../PDFs/raw_data/amanda_fire_cause_clean/2013_fire_cause_by_county.csv')\n",
    "df_2013_fire_size = pd.read_csv('../PDFs/raw_data/amanda_fire_size_clean/2013_fire_size_by_county.csv')\n",
    "df_2013_dollar_dmg_cause = pd.read_csv('../PDFs/raw_data/dollar_damage_cause_unit_county/aligned/2013_Redbook_DollarDamage_byCause_byUnit_byCounty.csv')\n",
    "df_2013_dollar_dmg_size = pd.read_csv('../PDFs/raw_data/dollar_damage_size_unit_county/aligned/2013_Redbook_DollarDamage_Size.csv')\n",
    "df_2013_num_acres_cause = pd.read_csv('../PDFs/raw_data/num_acres_burned_cause_unit_county/Aligned/2013_Redbook_Acres_byCause_byUnit_byCounty_North_Edit.csv')\n",
    "df_2013_num_acres_burned_veg = pd.read_csv('../PDFs/raw_data/num_acres_burned_veg_unit_county/aligned/2013_Redbook_Acres_byType_byUnit_byCounty.csv')\n",
    "\n",
    "\n",
    "df_2014_fire_cause = pd.read_csv('../PDFs/raw_data/amanda_fire_cause_clean/2014_fire_cause_by_county.csv')\n",
    "df_2014_fire_size = pd.read_csv('../PDFs/raw_data/amanda_fire_size_clean/2014_fire_size_by_county.csv')\n",
    "df_2014_dollar_dmg_cause = pd.read_csv('../PDFs/raw_data/dollar_damage_cause_unit_county/aligned/2014_Redbook_DollarDamagebyCause.csv')\n",
    "df_2014_dollar_dmg_size = pd.read_csv('../PDFs/raw_data/dollar_damage_size_unit_county/aligned/2014_Redbook_DollarDamage_Size.csv')\n",
    "df_2014_num_acres_cause = pd.read_csv('../PDFs/raw_data/num_acres_burned_cause_unit_county/Aligned/2014_Redbook_AcresbyCause_North_Edit.csv')\n",
    "df_2014_num_acres_burned_veg = pd.read_csv('../PDFs/raw_data/num_acres_burned_veg_unit_county/aligned/2014_Redbook_AcresbyVegType.csv')\n"
   ]
  },
  {
   "cell_type": "code",
   "execution_count": null,
   "metadata": {},
   "outputs": [],
   "source": []
  },
  {
   "cell_type": "code",
   "execution_count": 116,
   "metadata": {},
   "outputs": [],
   "source": [
    "def lower_case_columns(df, df2 =None, df3 = None, df4 = None, df5= None, df6= None):\n",
    "    def lowering(df):\n",
    "        lowered_columns = []\n",
    "        columns = df.columns\n",
    "        for item in columns:\n",
    "            lowered_columns.append(item.lower())\n",
    "        lowered_columns[0] = 'county' #fixes the county index issue.\n",
    "        df.columns = lowered_columns\n",
    "        return df\n",
    "    df = lowering(df)\n",
    "    df2 = lowering(df2)\n",
    "    df3 = lowering(df3)\n",
    "    df4 = lowering(df4)\n",
    "    df5 = lowering(df5)\n",
    "    df6 = lowering(df6)\n",
    "    #decided to just throw the merge code here too.\n",
    "    df = pd.merge(df, df2, how = 'outer', on = 'county')\n",
    "    df = pd.merge(df, df3, how = 'outer', on = 'county')\n",
    "    df = pd.merge(df, df4, how = 'outer', on = 'county')\n",
    "    df = pd.merge(df, df5, how = 'outer', on = 'county')\n",
    "    df = pd.merge(df, df6, how = 'outer', on = 'county')\n",
    "    return df"
   ]
  },
  {
   "cell_type": "code",
   "execution_count": 113,
   "metadata": {},
   "outputs": [],
   "source": []
  },
  {
   "cell_type": "code",
   "execution_count": 145,
   "metadata": {},
   "outputs": [],
   "source": [
    "df_2013 = lower_case_columns(df_2013_fire_cause, \n",
    "                        df_2013_fire_size, \n",
    "                        df_2013_dollar_dmg_cause, \n",
    "                        df_2013_dollar_dmg_size, \n",
    "                        df_2013_num_acres_cause, \n",
    "                        df_2013_num_acres_burned_veg)\n"
   ]
  },
  {
   "cell_type": "code",
   "execution_count": 143,
   "metadata": {},
   "outputs": [],
   "source": [
    "#df_2013.fillna(0, inplace =True)\n"
   ]
  },
  {
   "cell_type": "code",
   "execution_count": 146,
   "metadata": {},
   "outputs": [],
   "source": [
    "df_2013.to_csv('../CSVs/data_2013.csv')"
   ]
  },
  {
   "cell_type": "code",
   "execution_count": 122,
   "metadata": {},
   "outputs": [],
   "source": [
    "df_2014 = lower_case_columns(df_2014_fire_cause, \n",
    "                        df_2014_fire_size, \n",
    "                        df_2014_dollar_dmg_cause, \n",
    "                        df_2014_dollar_dmg_size, \n",
    "                        df_2014_num_acres_cause, \n",
    "                        df_2014_num_acres_burned_veg)"
   ]
  },
  {
   "cell_type": "code",
   "execution_count": 142,
   "metadata": {},
   "outputs": [],
   "source": [
    "df_2014.to_csv('../CSVs/data_2014.csv')"
   ]
  }
 ],
 "metadata": {
  "kernelspec": {
   "display_name": "Python 3",
   "language": "python",
   "name": "python3"
  },
  "language_info": {
   "codemirror_mode": {
    "name": "ipython",
    "version": 3
   },
   "file_extension": ".py",
   "mimetype": "text/x-python",
   "name": "python",
   "nbconvert_exporter": "python",
   "pygments_lexer": "ipython3",
   "version": "3.7.1"
  }
 },
 "nbformat": 4,
 "nbformat_minor": 2
}
