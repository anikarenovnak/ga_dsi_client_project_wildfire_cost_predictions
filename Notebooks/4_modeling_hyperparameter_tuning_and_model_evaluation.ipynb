{
 "cells": [
  {
   "cell_type": "markdown",
   "metadata": {},
   "source": [
    "# Overview\n",
    "\n",
    "This notebook contains the moedling process. The models built are: \n",
    "<br/>\n",
    "<br/>\n",
    "    1. Multiple linear regression\n",
    "    2. Lasso regularization\n",
    "    3. Ridge regularization\n",
    "    4. K nearest neighbores\n",
    "    5. Support vector regression\n",
    "    6. Random forest regression\n",
    "    7. Extra trees regression\n",
    "    8. Bootstrap aggregation regression\n",
    "    9. AdaBoost regression\n",
    "    10. Gradient boosting regression \n",
    "    \n",
    "Each model was built in three phases: \n",
    "\n",
    "- Base case - the model was built without any hyperparameter tuning to identify the performance of a basic model with default parameters\n",
    "<br/>\n",
    "<br/>\n",
    "- Hyperparameter tuning with grid search - the model was build after thorough hyperparameter tuning with grid search\n",
    "<br/>\n",
    "<br/>\n",
    "- Model stacking - the model was build using model stacking method, where the predictions of each best model resulting from the grid search are now used and passed as new features to the data. This new data is then used to build a 'meta-model'. This method will be discussed in more detail in section 4 of this notebook. \n",
    "\n",
    "# Comment on Model Evaluation\n",
    "\n",
    "Since model selection(selecting the best model) follows model evaluation, model evaluation is done concurrently to building each model. Because we will need to transform the data and standardize it, it will become difficult to interpret mean squared error or squared error since a unit change in a predictor variable will not need to be interpreted in a unit change in the standard deviation of that variable. This is an unintuitive way of interpreting results. Therefore, we will not use mean squared error or derivatives of this metric to evaluate the model. Instead we will evaluate the models based on R2 scores which is a metric that produces the percent of variance in the data that the model explains as compared to a null model (a model that has no predictive power and simply guesses the mean of the target variable each time). Furthermore, each model will be evaluated with three R2 scores:\n",
    "\n",
    "I produced a lot of training and testing scores in the Model Building and Hyperparameter Tuning notebook. In this notebook I will visualize all of these scores and will select the best model based on the conjunction of two conditions: cross_validation score, train score and test score. The best model will then be selected based on satisfying the following three criteria better than any other candidate model: \n",
    "\n",
    "1. The highest possible training and testing scores \n",
    "AND\n",
    "2. The smallest difference between training and testing scores \n",
    "AND \n",
    "3. The smallest different between training score and cross_val score and the smallest difference between testing score and cross_val score. \n",
    "\n",
    "These three conditions above will give us a better understanding of model performance based on bias/variance tradeoff. \n",
    "\n",
    "A general summary of model evaluation will be discussed in notebook **3. Final Model Selection, Conclusions and Recommendations**"
   ]
  },
  {
   "cell_type": "code",
   "execution_count": 205,
   "metadata": {},
   "outputs": [],
   "source": [
    "# basic packages \n",
    "import pandas as pd\n",
    "import numpy as np\n",
    "import statsmodels.api as sm\n",
    "\n",
    "# visualization packages\n",
    "import seaborn as sns\n",
    "import matplotlib.pyplot as plt\n",
    "\n",
    "# data transforms\n",
    "from sklearn.preprocessing import PolynomialFeatures, StandardScaler, PowerTransformer\n",
    "from sklearn.feature_selection import VarianceThreshold, SelectKBest\n",
    "from sklearn.decomposition import PCA\n",
    "\n",
    "# import models\n",
    "from sklearn.linear_model import LinearRegression, RidgeCV, LassoCV\n",
    "from sklearn.tree import DecisionTreeRegressor\n",
    "from sklearn.svm import SVR\n",
    "from sklearn.neighbors import KNeighborsRegressor\n",
    "from sklearn.ensemble import AdaBoostRegressor, BaggingRegressor, RandomForestRegressor, ExtraTreesRegressor, GradientBoostingRegressor\n",
    "\n",
    "# model evaluation metrics \n",
    "from sklearn.model_selection import train_test_split, cross_val_score\n",
    "from sklearn.metrics import r2_score, mean_squared_error, mean_absolute_error\n",
    "\n",
    "# pipline and gridsearch\n",
    "from pactools.grid_search import GridSearchCVProgressBar\n",
    "from sklearn.pipeline import Pipeline\n",
    "\n",
    "%matplotlib inline\n",
    "import warnings\n",
    "warnings.filterwarnings('ignore')"
   ]
  },
  {
   "cell_type": "markdown",
   "metadata": {},
   "source": [
    "# 1. Import the data and determine what transforms need to be done "
   ]
  },
  {
   "cell_type": "code",
   "execution_count": 206,
   "metadata": {},
   "outputs": [
    {
     "data": {
      "text/html": [
       "<div>\n",
       "<style scoped>\n",
       "    .dataframe tbody tr th:only-of-type {\n",
       "        vertical-align: middle;\n",
       "    }\n",
       "\n",
       "    .dataframe tbody tr th {\n",
       "        vertical-align: top;\n",
       "    }\n",
       "\n",
       "    .dataframe thead th {\n",
       "        text-align: right;\n",
       "    }\n",
       "</style>\n",
       "<table border=\"1\" class=\"dataframe\">\n",
       "  <thead>\n",
       "    <tr style=\"text-align: right;\">\n",
       "      <th></th>\n",
       "      <th>county</th>\n",
       "      <th>.25_acres_or_&lt;_num_fire_size</th>\n",
       "      <th>av_ac_brn_0.125</th>\n",
       "      <th>.26-9.99_acres_num_fire_size</th>\n",
       "      <th>av_ac_brn_8.865</th>\n",
       "      <th>10-99_acres_num_fire_size</th>\n",
       "      <th>av_ac_brn_44.5</th>\n",
       "      <th>100-299_acres_num_fire_size</th>\n",
       "      <th>av_ac_brn_99.5</th>\n",
       "      <th>300-999_acres_num_fire_size</th>\n",
       "      <th>...</th>\n",
       "      <th>target</th>\n",
       "      <th>tot_ac_brn</th>\n",
       "      <th>tot_ac_brn_half</th>\n",
       "      <th>tot_num_fire</th>\n",
       "      <th>tot_av_ac_brn.1</th>\n",
       "      <th>pop</th>\n",
       "      <th>area</th>\n",
       "      <th>pop_dense</th>\n",
       "      <th>forest_acr</th>\n",
       "      <th>percent_forest_acr</th>\n",
       "    </tr>\n",
       "  </thead>\n",
       "  <tbody>\n",
       "    <tr>\n",
       "      <th>0</th>\n",
       "      <td>Alameda</td>\n",
       "      <td>12</td>\n",
       "      <td>1.500</td>\n",
       "      <td>26</td>\n",
       "      <td>126.490</td>\n",
       "      <td>4</td>\n",
       "      <td>178.0</td>\n",
       "      <td>2</td>\n",
       "      <td>199.0</td>\n",
       "      <td>1</td>\n",
       "      <td>...</td>\n",
       "      <td>264450</td>\n",
       "      <td>1700</td>\n",
       "      <td>850.0</td>\n",
       "      <td>47</td>\n",
       "      <td>854.490</td>\n",
       "      <td>1663190.0</td>\n",
       "      <td>738.0</td>\n",
       "      <td>2253.64</td>\n",
       "      <td>103910.40</td>\n",
       "      <td>0.22</td>\n",
       "    </tr>\n",
       "    <tr>\n",
       "      <th>1</th>\n",
       "      <td>Amador</td>\n",
       "      <td>25</td>\n",
       "      <td>3.125</td>\n",
       "      <td>15</td>\n",
       "      <td>72.975</td>\n",
       "      <td>1</td>\n",
       "      <td>44.5</td>\n",
       "      <td>0</td>\n",
       "      <td>0.0</td>\n",
       "      <td>0</td>\n",
       "      <td>...</td>\n",
       "      <td>5000</td>\n",
       "      <td>84</td>\n",
       "      <td>42.0</td>\n",
       "      <td>41</td>\n",
       "      <td>120.600</td>\n",
       "      <td>38626.0</td>\n",
       "      <td>606.0</td>\n",
       "      <td>63.74</td>\n",
       "      <td>137270.18</td>\n",
       "      <td>0.35</td>\n",
       "    </tr>\n",
       "    <tr>\n",
       "      <th>2</th>\n",
       "      <td>Butte</td>\n",
       "      <td>38</td>\n",
       "      <td>4.750</td>\n",
       "      <td>40</td>\n",
       "      <td>194.600</td>\n",
       "      <td>6</td>\n",
       "      <td>267.0</td>\n",
       "      <td>1</td>\n",
       "      <td>99.5</td>\n",
       "      <td>0</td>\n",
       "      <td>...</td>\n",
       "      <td>459854</td>\n",
       "      <td>381</td>\n",
       "      <td>190.5</td>\n",
       "      <td>84</td>\n",
       "      <td>565.850</td>\n",
       "      <td>229294.0</td>\n",
       "      <td>1640.0</td>\n",
       "      <td>139.81</td>\n",
       "      <td>237591.23</td>\n",
       "      <td>0.23</td>\n",
       "    </tr>\n",
       "    <tr>\n",
       "      <th>3</th>\n",
       "      <td>Calaveras</td>\n",
       "      <td>45</td>\n",
       "      <td>5.625</td>\n",
       "      <td>38</td>\n",
       "      <td>184.870</td>\n",
       "      <td>1</td>\n",
       "      <td>44.5</td>\n",
       "      <td>1</td>\n",
       "      <td>99.5</td>\n",
       "      <td>0</td>\n",
       "      <td>...</td>\n",
       "      <td>96763</td>\n",
       "      <td>459</td>\n",
       "      <td>229.5</td>\n",
       "      <td>85</td>\n",
       "      <td>334.495</td>\n",
       "      <td>45670.0</td>\n",
       "      <td>1020.0</td>\n",
       "      <td>44.77</td>\n",
       "      <td>140871.93</td>\n",
       "      <td>0.22</td>\n",
       "    </tr>\n",
       "    <tr>\n",
       "      <th>4</th>\n",
       "      <td>Colusa</td>\n",
       "      <td>0</td>\n",
       "      <td>0.000</td>\n",
       "      <td>4</td>\n",
       "      <td>19.460</td>\n",
       "      <td>0</td>\n",
       "      <td>0.0</td>\n",
       "      <td>0</td>\n",
       "      <td>0.0</td>\n",
       "      <td>0</td>\n",
       "      <td>...</td>\n",
       "      <td>0</td>\n",
       "      <td>14</td>\n",
       "      <td>7.0</td>\n",
       "      <td>4</td>\n",
       "      <td>19.460</td>\n",
       "      <td>21805.0</td>\n",
       "      <td>1151.0</td>\n",
       "      <td>18.94</td>\n",
       "      <td>114082.46</td>\n",
       "      <td>0.15</td>\n",
       "    </tr>\n",
       "  </tbody>\n",
       "</table>\n",
       "<p>5 rows × 38 columns</p>\n",
       "</div>"
      ],
      "text/plain": [
       "      county  .25_acres_or_<_num_fire_size  av_ac_brn_0.125  \\\n",
       "0    Alameda                            12            1.500   \n",
       "1     Amador                            25            3.125   \n",
       "2      Butte                            38            4.750   \n",
       "3  Calaveras                            45            5.625   \n",
       "4     Colusa                             0            0.000   \n",
       "\n",
       "   .26-9.99_acres_num_fire_size  av_ac_brn_8.865  10-99_acres_num_fire_size  \\\n",
       "0                            26          126.490                          4   \n",
       "1                            15           72.975                          1   \n",
       "2                            40          194.600                          6   \n",
       "3                            38          184.870                          1   \n",
       "4                             4           19.460                          0   \n",
       "\n",
       "   av_ac_brn_44.5  100-299_acres_num_fire_size  av_ac_brn_99.5  \\\n",
       "0           178.0                            2           199.0   \n",
       "1            44.5                            0             0.0   \n",
       "2           267.0                            1            99.5   \n",
       "3            44.5                            1            99.5   \n",
       "4             0.0                            0             0.0   \n",
       "\n",
       "   300-999_acres_num_fire_size  ...  target  tot_ac_brn  tot_ac_brn_half  \\\n",
       "0                            1  ...  264450        1700            850.0   \n",
       "1                            0  ...    5000          84             42.0   \n",
       "2                            0  ...  459854         381            190.5   \n",
       "3                            0  ...   96763         459            229.5   \n",
       "4                            0  ...       0          14              7.0   \n",
       "\n",
       "   tot_num_fire  tot_av_ac_brn.1        pop    area  pop_dense  forest_acr  \\\n",
       "0            47          854.490  1663190.0   738.0    2253.64   103910.40   \n",
       "1            41          120.600    38626.0   606.0      63.74   137270.18   \n",
       "2            84          565.850   229294.0  1640.0     139.81   237591.23   \n",
       "3            85          334.495    45670.0  1020.0      44.77   140871.93   \n",
       "4             4           19.460    21805.0  1151.0      18.94   114082.46   \n",
       "\n",
       "   percent_forest_acr  \n",
       "0                0.22  \n",
       "1                0.35  \n",
       "2                0.23  \n",
       "3                0.22  \n",
       "4                0.15  \n",
       "\n",
       "[5 rows x 38 columns]"
      ]
     },
     "execution_count": 206,
     "metadata": {},
     "output_type": "execute_result"
    }
   ],
   "source": [
    "df = pd.read_csv('../clean_combined_data/final_data.csv')\n",
    "df.drop(columns = 'Unnamed: 0', inplace = True)\n",
    "df.head()"
   ]
  },
  {
   "cell_type": "code",
   "execution_count": 207,
   "metadata": {},
   "outputs": [],
   "source": [
    "#df.drop(df[df.target > 10_000_000].index, axis = 0, inplace = True)\n",
    "#get rid of error-observations\n",
    "#df.drop(df[df.target == 0].index, axis = 0, inplace = True)\n",
    "#df.drop(df[df.target < 1000].index, axis = 0, inplace = True)"
   ]
  },
  {
   "cell_type": "code",
   "execution_count": 208,
   "metadata": {},
   "outputs": [],
   "source": [
    "# drop missing values and check the remaining columns in the data\n",
    "df.dropna(inplace = True)"
   ]
  },
  {
   "cell_type": "markdown",
   "metadata": {},
   "source": [
    "\n",
    "The data contains a few features which are damage costs in dollars for various acres ranges of areas burned in wildfires. These features are therefore intrinsic components of the target variable itself so they must not be included in the training data. If we were to include these features, then we would expect our models to have falsely perfect accuracy scores. Therefore we need to drop all these features form our training data."
   ]
  },
  {
   "cell_type": "code",
   "execution_count": 209,
   "metadata": {
    "scrolled": true
   },
   "outputs": [],
   "source": [
    "# create a list of training features that do not include features representing dollar amounts and remove 'county' feature and the 'target' feature from the training dataset\n",
    "features = [i for i in df.columns if ('dollar' not in i) and (i != 'county')  and (i != 'target')]"
   ]
  },
  {
   "cell_type": "markdown",
   "metadata": {},
   "source": [
    "### Define X, y and do a train_test_split"
   ]
  },
  {
   "cell_type": "code",
   "execution_count": 210,
   "metadata": {},
   "outputs": [],
   "source": [
    "X = df[features] # training features\n",
    "y = df['target'] # target feature we wish to predict - represents the total wildfire damage cost in US dollars\n",
    "\n",
    "X_train, X_test, y_train, y_test = train_test_split(X, y, random_state = 42)"
   ]
  },
  {
   "cell_type": "markdown",
   "metadata": {},
   "source": [
    "### Examine the distribution of our target variable "
   ]
  },
  {
   "cell_type": "code",
   "execution_count": 211,
   "metadata": {},
   "outputs": [
    {
     "data": {
      "text/plain": [
       "<matplotlib.axes._subplots.AxesSubplot at 0x1c297f6860>"
      ]
     },
     "execution_count": 211,
     "metadata": {},
     "output_type": "execute_result"
    },
    {
     "data": {
      "image/png": "[encoded data removed]",
      "text/plain": [
       "<Figure size 432x288 with 1 Axes>"
      ]
     },
     "metadata": {
      "needs_background": "light"
     },
     "output_type": "display_data"
    }
   ],
   "source": [
    "sns.distplot(y_train, kde = False)"
   ]
  },
  {
   "cell_type": "markdown",
   "metadata": {},
   "source": [
    "The distribution of the target variable appears to be highly right skewed. Apply power transform to target variable (and also the rest of the data)  to normalize the distributions then check the distribution of target variable again."
   ]
  },
  {
   "cell_type": "markdown",
   "metadata": {},
   "source": [
    "### Power Transformer"
   ]
  },
  {
   "cell_type": "code",
   "execution_count": 212,
   "metadata": {},
   "outputs": [],
   "source": [
    "pt = PowerTransformer()\n",
    "pt.fit(X_train)\n",
    "X_train = pt.transform(X_train)\n",
    "X_test = pt.transform(X_test)"
   ]
  },
  {
   "cell_type": "code",
   "execution_count": 213,
   "metadata": {},
   "outputs": [],
   "source": [
    "pt_y = PowerTransformer()\n",
    "# PowerTransformer requires a matrix/DataFrame, which is why we're using the .to_frame() method on y_train\n",
    "pt_y.fit(y_train.to_frame()) \n",
    "y_train_pt = pt_y.transform(y_train.to_frame())\n",
    "y_test_pt = pt_y.transform(y_test.to_frame())"
   ]
  },
  {
   "cell_type": "code",
   "execution_count": 214,
   "metadata": {},
   "outputs": [
    {
     "data": {
      "text/plain": [
       "<matplotlib.axes._subplots.AxesSubplot at 0x1c29b4bc88>"
      ]
     },
     "execution_count": 214,
     "metadata": {},
     "output_type": "execute_result"
    },
    {
     "data": {
      "image/png": "[encoded data removed]",
      "text/plain": [
       "<Figure size 432x288 with 1 Axes>"
      ]
     },
     "metadata": {
      "needs_background": "light"
     },
     "output_type": "display_data"
    }
   ],
   "source": [
    "sns.distplot(y_train_pt, kde = False)"
   ]
  },
  {
   "cell_type": "code",
   "execution_count": 215,
   "metadata": {},
   "outputs": [
    {
     "data": {
      "text/plain": [
       "-4.418798107960822e-17"
      ]
     },
     "execution_count": 215,
     "metadata": {},
     "output_type": "execute_result"
    }
   ],
   "source": [
    "y_train_pt.mean()"
   ]
  },
  {
   "cell_type": "markdown",
   "metadata": {},
   "source": [
    "Now the distribution of the target is nearly normally distributed with a mean of around 0. Since a few models such as Lasso, Ridge and KNN we will use later are sensitive to the scale of our data, we need to standardize the data for those models. "
   ]
  },
  {
   "cell_type": "markdown",
   "metadata": {},
   "source": [
    "### Standard Scaler"
   ]
  },
  {
   "cell_type": "code",
   "execution_count": 216,
   "metadata": {},
   "outputs": [],
   "source": [
    "# Standard Scaler\n",
    "X_train, X_test, y_train, y_test = train_test_split(X, y, random_state = 42)\n",
    "ss = StandardScaler()\n",
    "X_train_sc = ss.fit_transform(X_train)\n",
    "X_test_sc = ss.transform(X_test)"
   ]
  },
  {
   "cell_type": "markdown",
   "metadata": {},
   "source": [
    "# 2. Modeling and Evaluation"
   ]
  },
  {
   "cell_type": "markdown",
   "metadata": {},
   "source": [
    "### Instantiate all the models"
   ]
  },
  {
   "cell_type": "markdown",
   "metadata": {},
   "source": [
    "We are solving a regression problem, therefore all the models we will use will be regression models. "
   ]
  },
  {
   "cell_type": "code",
   "execution_count": 217,
   "metadata": {},
   "outputs": [],
   "source": [
    "# instantiate all the models \n",
    "\n",
    "lm = LinearRegression()                             \n",
    "lasso = LassoCV()\n",
    "ridge = RidgeCV()\n",
    "svr = SVR()\n",
    "knn = KNeighborsRegressor()\n",
    "bag = BaggingRegressor()\n",
    "rf = RandomForestRegressor()\n",
    "et = ExtraTreesRegressor()\n",
    "ada = AdaBoostRegressor()\n",
    "gb = GradientBoostingRegressor()"
   ]
  },
  {
   "cell_type": "markdown",
   "metadata": {},
   "source": [
    "## 2.1. Base Case: Do preliminary model fits "
   ]
  },
  {
   "cell_type": "code",
   "execution_count": 218,
   "metadata": {},
   "outputs": [
    {
     "name": "stdout",
     "output_type": "stream",
     "text": [
      "-354.49291748709055\n",
      "0.5908604809152116\n",
      "0.24359829750627138\n"
     ]
    }
   ],
   "source": [
    "# Multiple Linear Regression\n",
    "\n",
    "print(cross_val_score(lm, X_train, y_train_pt).mean())\n",
    "\n",
    "lm.fit(X_train,y_train_pt)\n",
    "\n",
    "pred = lm.predict(X_train)\n",
    "print(r2_score(y_train_pt, pred))\n",
    "\n",
    "pred = lm.predict(X_test)\n",
    "print(r2_score(y_test_pt, pred))"
   ]
  },
  {
   "cell_type": "code",
   "execution_count": 219,
   "metadata": {},
   "outputs": [
    {
     "name": "stdout",
     "output_type": "stream",
     "text": [
      "0.3010009880520918\n",
      "0.4699522640487166\n",
      "0.23431647133512445\n"
     ]
    }
   ],
   "source": [
    "# Lasso Regularization \n",
    "\n",
    "print(cross_val_score(lasso, X_train_sc, y_train_pt).mean())\n",
    "\n",
    "lasso.fit(X_train_sc, y_train_pt)\n",
    "\n",
    "pred = lasso.predict(X_train_sc)\n",
    "print(r2_score(y_train_pt, pred))\n",
    "\n",
    "pred = lasso.predict(X_test_sc)\n",
    "print(r2_score(y_test_pt, pred))\n",
    "\n"
   ]
  },
  {
   "cell_type": "code",
   "execution_count": 220,
   "metadata": {},
   "outputs": [
    {
     "name": "stdout",
     "output_type": "stream",
     "text": [
      "0.3662266467591307\n",
      "0.5908081679469421\n",
      "0.24563479505165353\n"
     ]
    }
   ],
   "source": [
    "# Ridge Regularization \n",
    "\n",
    "print(cross_val_score(ridge, X_train_sc, y_train_pt).mean())\n",
    "\n",
    "ridge.fit(X_train_sc, y_train_pt)\n",
    "\n",
    "pred = ridge.predict(X_train_sc)\n",
    "print(r2_score(y_train_pt, pred))\n",
    "\n",
    "pred = ridge.predict(X_test_sc)\n",
    "print(r2_score(y_test_pt, pred))"
   ]
  },
  {
   "cell_type": "code",
   "execution_count": 221,
   "metadata": {},
   "outputs": [
    {
     "name": "stdout",
     "output_type": "stream",
     "text": [
      "0.4541606541025229\n",
      "0.7061914078751157\n",
      "0.43537483857463555\n"
     ]
    }
   ],
   "source": [
    "# Support Vector Regressor (SVR)\n",
    "\n",
    "print(cross_val_score(svr, X_train_sc, y_train_pt).mean())\n",
    "\n",
    "svr.fit(X_train_sc, y_train_pt)\n",
    "\n",
    "pred = svr.predict(X_train_sc)\n",
    "print(r2_score(y_train_pt, pred))\n",
    "\n",
    "pred = svr.predict(X_test_sc)\n",
    "print(r2_score(y_test_pt, pred))"
   ]
  },
  {
   "cell_type": "code",
   "execution_count": 222,
   "metadata": {},
   "outputs": [
    {
     "name": "stdout",
     "output_type": "stream",
     "text": [
      "0.44768015483412693\n",
      "0.6304949754622892\n",
      "0.47963824649106546\n"
     ]
    }
   ],
   "source": [
    "# K Nearest Neighbors Regressor (KNN)\n",
    "\n",
    "print(cross_val_score(knn, X_train_sc, y_train_pt).mean())\n",
    "\n",
    "knn.fit(X_train_sc,y_train_pt)\n",
    "\n",
    "pred = knn.predict(X_train_sc)\n",
    "print(r2_score(y_train_pt, pred))\n",
    "\n",
    "pred = knn.predict(X_test_sc)\n",
    "print(r2_score(y_test_pt, pred))"
   ]
  },
  {
   "cell_type": "code",
   "execution_count": 223,
   "metadata": {},
   "outputs": [
    {
     "name": "stdout",
     "output_type": "stream",
     "text": [
      "0.46223980043407\n",
      "0.9029921858756655\n",
      "0.43703041225321626\n"
     ]
    }
   ],
   "source": [
    "# Random Forest Regressor \n",
    "\n",
    "print(cross_val_score(rf, X_train, y_train_pt).mean())\n",
    "\n",
    "rf.fit(X_train,y_train_pt)\n",
    "\n",
    "pred = rf.predict(X_train)\n",
    "print(r2_score(y_train_pt, pred))\n",
    "\n",
    "pred = rf.predict(X_test)\n",
    "print(r2_score(y_test_pt, pred))"
   ]
  },
  {
   "cell_type": "code",
   "execution_count": 224,
   "metadata": {},
   "outputs": [
    {
     "name": "stdout",
     "output_type": "stream",
     "text": [
      "0.43458550727005035\n",
      "0.8986695333835832\n",
      "0.6257302518623\n"
     ]
    }
   ],
   "source": [
    "# Bootstrap Aggregating Regressor (Bagging)\n",
    "\n",
    "print(cross_val_score(bag, X_train, y_train_pt).mean())\n",
    "\n",
    "bag.fit(X_train,y_train_pt)\n",
    "\n",
    "pred = bag.predict(X_train)\n",
    "print(r2_score(y_train_pt, pred))\n",
    "\n",
    "pred = bag.predict(X_test)\n",
    "print(r2_score(y_test_pt, pred))"
   ]
  },
  {
   "cell_type": "code",
   "execution_count": 225,
   "metadata": {},
   "outputs": [
    {
     "name": "stdout",
     "output_type": "stream",
     "text": [
      "0.44252575108846176\n",
      "0.9999999999863424\n",
      "0.3534649710869583\n"
     ]
    }
   ],
   "source": [
    "# Extra Tree Regressor \n",
    "\n",
    "print(cross_val_score(bag, X_train, y_train_pt).mean())\n",
    "\n",
    "et.fit(X_train,y_train_pt)\n",
    "\n",
    "pred = et.predict(X_train)\n",
    "print(r2_score(y_train_pt, pred))\n",
    "\n",
    "pred = et.predict(X_test)\n",
    "print(r2_score(y_test_pt, pred))"
   ]
  },
  {
   "cell_type": "code",
   "execution_count": 226,
   "metadata": {},
   "outputs": [
    {
     "name": "stdout",
     "output_type": "stream",
     "text": [
      "0.47179459907659593\n",
      "0.8052827387481665\n",
      "0.5039092534710483\n"
     ]
    }
   ],
   "source": [
    "# Ada-Boost Regressor \n",
    "\n",
    "print(cross_val_score(bag, X_train_sc, y_train_pt).mean())\n",
    "\n",
    "ada.fit(X_train_sc,y_train_pt)\n",
    "\n",
    "pred = ada.predict(X_train_sc)\n",
    "print(r2_score(y_train_pt, pred))\n",
    "\n",
    "pred = ada.predict(X_test_sc)\n",
    "print(r2_score(y_test_pt, pred))"
   ]
  },
  {
   "cell_type": "code",
   "execution_count": 227,
   "metadata": {},
   "outputs": [
    {
     "name": "stdout",
     "output_type": "stream",
     "text": [
      "0.44461448478157733\n",
      "0.9569864183136193\n",
      "0.5002960849070524\n"
     ]
    }
   ],
   "source": [
    "# Gradient Boosting Regressor \n",
    "\n",
    "print(cross_val_score(gb, X_train, y_train_pt).mean())\n",
    "\n",
    "gb.fit(X_train,y_train_pt)\n",
    "\n",
    "pred = gb.predict(X_train)\n",
    "print(r2_score(y_train_pt, pred))\n",
    "\n",
    "pred = gb.predict(X_test)\n",
    "print(r2_score(y_test_pt, pred))"
   ]
  },
  {
   "cell_type": "markdown",
   "metadata": {},
   "source": [
    "It looks like prior to any hyperparameter tuning, all models suffer from error due to high variance and they all have generally low R2 values which means that only a small percentage of the variance in data is explained by our model. The high error due to variance issue is especially the case with the ensemble models. Overall performance-wise, multiple linear regression seems to be performing very poorly with a very large negative cv score. Hyperparameter tuning is necessary to find the best parameters for the models to hopefully reduce variance and increase the overal r2 scores. "
   ]
  },
  {
   "cell_type": "markdown",
   "metadata": {},
   "source": [
    "## 2.2. Hyperparameter tuning with gridsearch"
   ]
  },
  {
   "cell_type": "code",
   "execution_count": 228,
   "metadata": {},
   "outputs": [],
   "source": [
    "## this function takes as arguments train and test data, a pipeline which specifies specific transforms and a specific model to be run, and specific parameter to be passed to a grid search for parameter tuning. This function runs a certain number of iterations of a model based on every possible combination of parameters, then builds the model which results in the highest test score. The function also outputs the best parameters of this model and displayes the evaluation metrics in a dataframe. Lastly the function also outputs the predictions from a model and saves them in y_pred_tr, y_pred_ts variables so that we can later use these as new features in model stacking. \n",
    "\n",
    "def pipe_gs(X_train, X_test, y_train, y_test, pipe, params):\n",
    "    \n",
    "    # build a pipeline \n",
    "    pipe\n",
    "    \n",
    "    # set a dictionary of parameters to tune over\n",
    "    params \n",
    "    \n",
    "    # do a grid search over the parameters specified in pipe_params and then do a 3-fold cross valiation\n",
    "    gs = GridSearchCVProgressBar(pipe, param_grid=params, cv=3, verbose = 1, n_jobs = 4)\n",
    "    gs.fit(X_train, y_train)\n",
    "    print('')\n",
    "    print('')\n",
    "    \n",
    "    # best parameters \n",
    "    print('best paramteres: '+str(gs.best_params_))\n",
    "    print('')\n",
    "    print('')\n",
    "       \n",
    "    # cross_val score \n",
    "    cv_score = gs.best_score_\n",
    "  \n",
    "    # training score \n",
    "    train_score = gs.score(X_train, y_train)\n",
    "    \n",
    "    # predictions on train data\n",
    "    y_pred_tr = gs.predict(X_train)\n",
    "   \n",
    "    # testing score \n",
    "    test_score = gs.score(X_test, y_test)\n",
    "   \n",
    "    # predictions of the best model \n",
    "    y_pred_ts = gs.predict(X_test)\n",
    "    \n",
    "    # mean abs error score \n",
    "    mean_abs_error = mean_absolute_error(y_test, y_pred_ts)\n",
    "\n",
    "    metric_names = ['cv_score',\n",
    "                   'train_score',\n",
    "                   'test_score']\n",
    "    \n",
    "    metrics = [cv_score, \n",
    "               train_score, \n",
    "               test_score \n",
    "               ]\n",
    "    \n",
    "    d = {'metric':metric_names, \n",
    "         'value': metrics}\n",
    "   \n",
    "    df = pd.DataFrame(d)\n",
    "      \n",
    "    return df, y_pred_tr, y_pred_ts"
   ]
  },
  {
   "cell_type": "markdown",
   "metadata": {},
   "source": [
    "### Multiple Linear Regression"
   ]
  },
  {
   "cell_type": "code",
   "execution_count": 229,
   "metadata": {
    "scrolled": true
   },
   "outputs": [
    {
     "name": "stdout",
     "output_type": "stream",
     "text": [
      "Fitting 3 folds for each of 8 candidates, totalling 24 fits\n"
     ]
    },
    {
     "name": "stderr",
     "output_type": "stream",
     "text": [
      "[Parallel(n_jobs=4)]: Using backend LokyBackend with 4 concurrent workers.\n"
     ]
    },
    {
     "name": "stdout",
     "output_type": "stream",
     "text": [
      "\n",
      "\n",
      "best paramteres: {'k_best__k': 16, 'power_t__standardize': False, 'var_thresh__threshold': 0.3}\n",
      "\n",
      "\n"
     ]
    },
    {
     "name": "stderr",
     "output_type": "stream",
     "text": [
      "[Parallel(n_jobs=4)]: Done  24 out of  24 | elapsed:    1.7s finished\n"
     ]
    },
    {
     "data": {
      "text/html": [
       "<div>\n",
       "<style scoped>\n",
       "    .dataframe tbody tr th:only-of-type {\n",
       "        vertical-align: middle;\n",
       "    }\n",
       "\n",
       "    .dataframe tbody tr th {\n",
       "        vertical-align: top;\n",
       "    }\n",
       "\n",
       "    .dataframe thead th {\n",
       "        text-align: right;\n",
       "    }\n",
       "</style>\n",
       "<table border=\"1\" class=\"dataframe\">\n",
       "  <thead>\n",
       "    <tr style=\"text-align: right;\">\n",
       "      <th></th>\n",
       "      <th>metric</th>\n",
       "      <th>value</th>\n",
       "    </tr>\n",
       "  </thead>\n",
       "  <tbody>\n",
       "    <tr>\n",
       "      <th>0</th>\n",
       "      <td>cv_score</td>\n",
       "      <td>0.552382</td>\n",
       "    </tr>\n",
       "    <tr>\n",
       "      <th>1</th>\n",
       "      <td>train_score</td>\n",
       "      <td>0.638212</td>\n",
       "    </tr>\n",
       "    <tr>\n",
       "      <th>2</th>\n",
       "      <td>test_score</td>\n",
       "      <td>0.448620</td>\n",
       "    </tr>\n",
       "  </tbody>\n",
       "</table>\n",
       "</div>"
      ],
      "text/plain": [
       "        metric     value\n",
       "0     cv_score  0.552382\n",
       "1  train_score  0.638212\n",
       "2   test_score  0.448620"
      ]
     },
     "execution_count": 229,
     "metadata": {},
     "output_type": "execute_result"
    }
   ],
   "source": [
    "pipe = Pipeline([\n",
    "    ('var_thresh', VarianceThreshold()),\n",
    "    ('k_best', SelectKBest()),\n",
    "    ('power_t', PowerTransformer()),\n",
    "    #('ss', StandardScaler()),\n",
    "    ('lm', LinearRegression())\n",
    "])\n",
    "\n",
    "params = {\n",
    "    'var_thresh__threshold': [0, 0.1, 0.3, 0.5],\n",
    "    'power_t__standardize': [True, False],\n",
    "    'k_best__k':[16],\n",
    "\n",
    "}\n",
    "\n",
    "df, y_pred_tr_lm, y_pred_ts_lm  = pipe_gs(X_train, X_test, y_train_pt, y_test_pt, pipe, params)\n",
    "df"
   ]
  },
  {
   "cell_type": "markdown",
   "metadata": {},
   "source": [
    "### Lasso"
   ]
  },
  {
   "cell_type": "code",
   "execution_count": 230,
   "metadata": {},
   "outputs": [
    {
     "name": "stdout",
     "output_type": "stream",
     "text": [
      "Fitting 3 folds for each of 64 candidates, totalling 192 fits\n"
     ]
    },
    {
     "name": "stderr",
     "output_type": "stream",
     "text": [
      "[Parallel(n_jobs=4)]: Using backend LokyBackend with 4 concurrent workers.\n",
      "[Parallel(n_jobs=4)]: Done  42 tasks      | elapsed:    2.4s\n",
      "[Parallel(n_jobs=4)]: Done 192 out of 192 | elapsed:   10.3s finished\n"
     ]
    },
    {
     "name": "stdout",
     "output_type": "stream",
     "text": [
      "\n",
      "\n",
      "best paramteres: {'k_best__k': 9, 'lasso__fit_intercept': False, 'lasso__n_alphas': 1, 'power_t__standardize': False, 'var_thresh__threshold': 0.3}\n",
      "\n",
      "\n"
     ]
    },
    {
     "data": {
      "text/html": [
       "<div>\n",
       "<style scoped>\n",
       "    .dataframe tbody tr th:only-of-type {\n",
       "        vertical-align: middle;\n",
       "    }\n",
       "\n",
       "    .dataframe tbody tr th {\n",
       "        vertical-align: top;\n",
       "    }\n",
       "\n",
       "    .dataframe thead th {\n",
       "        text-align: right;\n",
       "    }\n",
       "</style>\n",
       "<table border=\"1\" class=\"dataframe\">\n",
       "  <thead>\n",
       "    <tr style=\"text-align: right;\">\n",
       "      <th></th>\n",
       "      <th>metric</th>\n",
       "      <th>value</th>\n",
       "    </tr>\n",
       "  </thead>\n",
       "  <tbody>\n",
       "    <tr>\n",
       "      <th>0</th>\n",
       "      <td>cv_score</td>\n",
       "      <td>0.432495</td>\n",
       "    </tr>\n",
       "    <tr>\n",
       "      <th>1</th>\n",
       "      <td>train_score</td>\n",
       "      <td>0.512515</td>\n",
       "    </tr>\n",
       "    <tr>\n",
       "      <th>2</th>\n",
       "      <td>test_score</td>\n",
       "      <td>0.491351</td>\n",
       "    </tr>\n",
       "  </tbody>\n",
       "</table>\n",
       "</div>"
      ],
      "text/plain": [
       "        metric     value\n",
       "0     cv_score  0.432495\n",
       "1  train_score  0.512515\n",
       "2   test_score  0.491351"
      ]
     },
     "execution_count": 230,
     "metadata": {},
     "output_type": "execute_result"
    }
   ],
   "source": [
    "pipe = Pipeline([\n",
    "    ('var_thresh', VarianceThreshold()),\n",
    "    ('power_t', PowerTransformer()),\n",
    "    ('k_best', SelectKBest()),\n",
    "    ('ss', StandardScaler()),\n",
    "    ('lasso', LassoCV(n_jobs = -1))\n",
    "])\n",
    "\n",
    "params = {\n",
    "    'var_thresh__threshold': [0, 0.1, 0.3, 0.5],\n",
    "    'power_t__standardize': [True, False],\n",
    "    'k_best__k':[9],\n",
    "    'lasso__fit_intercept':[False, True],\n",
    "    'lasso__n_alphas': [1, 5, 10, 30],\n",
    "    #'lasso__alpha': np.logspace(-3, 3, 7)\n",
    "}\n",
    "    \n",
    "\n",
    "df, y_pred_tr_lasso, y_pred_ts_lasso = pipe_gs(X_train, X_test, y_train_pt, y_test_pt, pipe, params)\n",
    "df"
   ]
  },
  {
   "cell_type": "markdown",
   "metadata": {},
   "source": [
    "### Ridge "
   ]
  },
  {
   "cell_type": "code",
   "execution_count": 231,
   "metadata": {},
   "outputs": [
    {
     "name": "stdout",
     "output_type": "stream",
     "text": [
      "Fitting 3 folds for each of 16 candidates, totalling 48 fits\n"
     ]
    },
    {
     "name": "stderr",
     "output_type": "stream",
     "text": [
      "[Parallel(n_jobs=4)]: Using backend LokyBackend with 4 concurrent workers.\n"
     ]
    },
    {
     "name": "stdout",
     "output_type": "stream",
     "text": [
      "\n",
      "\n",
      "best paramteres: {'k_best__k': 14, 'power_t__standardize': False, 'ridge__fit_intercept': True, 'var_thresh__threshold': 0.3}\n",
      "\n",
      "\n"
     ]
    },
    {
     "name": "stderr",
     "output_type": "stream",
     "text": [
      "[Parallel(n_jobs=4)]: Done  48 out of  48 | elapsed:    0.8s finished\n"
     ]
    },
    {
     "data": {
      "text/html": [
       "<div>\n",
       "<style scoped>\n",
       "    .dataframe tbody tr th:only-of-type {\n",
       "        vertical-align: middle;\n",
       "    }\n",
       "\n",
       "    .dataframe tbody tr th {\n",
       "        vertical-align: top;\n",
       "    }\n",
       "\n",
       "    .dataframe thead th {\n",
       "        text-align: right;\n",
       "    }\n",
       "</style>\n",
       "<table border=\"1\" class=\"dataframe\">\n",
       "  <thead>\n",
       "    <tr style=\"text-align: right;\">\n",
       "      <th></th>\n",
       "      <th>metric</th>\n",
       "      <th>value</th>\n",
       "    </tr>\n",
       "  </thead>\n",
       "  <tbody>\n",
       "    <tr>\n",
       "      <th>0</th>\n",
       "      <td>cv_score</td>\n",
       "      <td>0.541590</td>\n",
       "    </tr>\n",
       "    <tr>\n",
       "      <th>1</th>\n",
       "      <td>train_score</td>\n",
       "      <td>0.613074</td>\n",
       "    </tr>\n",
       "    <tr>\n",
       "      <th>2</th>\n",
       "      <td>test_score</td>\n",
       "      <td>0.480360</td>\n",
       "    </tr>\n",
       "  </tbody>\n",
       "</table>\n",
       "</div>"
      ],
      "text/plain": [
       "        metric     value\n",
       "0     cv_score  0.541590\n",
       "1  train_score  0.613074\n",
       "2   test_score  0.480360"
      ]
     },
     "execution_count": 231,
     "metadata": {},
     "output_type": "execute_result"
    }
   ],
   "source": [
    "pipe = Pipeline([\n",
    "    ('var_thresh', VarianceThreshold()),\n",
    "    ('k_best', SelectKBest()),\n",
    "    ('power_t', PowerTransformer()),\n",
    "    #('ss', StandardScaler()),\n",
    "    ('ridge', RidgeCV(alphas = (0.05, 0.1, 1.0, 10.0)))\n",
    "])\n",
    "\n",
    "params = {\n",
    "    'var_thresh__threshold': [0, 0.1, 0.3, 0.5],\n",
    "    'power_t__standardize': [True, False],\n",
    "    'k_best__k':[14],\n",
    "    'ridge__fit_intercept':[True, False]\n",
    "}\n",
    "\n",
    "df, y_pred_tr_ridge, y_pred_ts_ridge = pipe_gs(X_train, X_test, y_train_pt, y_test_pt, pipe, params)\n",
    "df"
   ]
  },
  {
   "cell_type": "markdown",
   "metadata": {},
   "source": [
    "### KNN"
   ]
  },
  {
   "cell_type": "code",
   "execution_count": 232,
   "metadata": {},
   "outputs": [
    {
     "name": "stdout",
     "output_type": "stream",
     "text": [
      "Fitting 3 folds for each of 24 candidates, totalling 72 fits\n"
     ]
    },
    {
     "name": "stderr",
     "output_type": "stream",
     "text": [
      "[Parallel(n_jobs=4)]: Using backend LokyBackend with 4 concurrent workers.\n",
      "[Parallel(n_jobs=4)]: Done  42 tasks      | elapsed:    2.6s\n",
      "[Parallel(n_jobs=4)]: Done  72 out of  72 | elapsed:    4.2s finished\n"
     ]
    },
    {
     "name": "stdout",
     "output_type": "stream",
     "text": [
      "\n",
      "\n",
      "best paramteres: {'k_best__k': 10, 'knn__n_neighbors': 10, 'knn__weights': 'uniform', 'var_thresh__threshold': 0.3}\n",
      "\n",
      "\n"
     ]
    },
    {
     "data": {
      "text/html": [
       "<div>\n",
       "<style scoped>\n",
       "    .dataframe tbody tr th:only-of-type {\n",
       "        vertical-align: middle;\n",
       "    }\n",
       "\n",
       "    .dataframe tbody tr th {\n",
       "        vertical-align: top;\n",
       "    }\n",
       "\n",
       "    .dataframe thead th {\n",
       "        text-align: right;\n",
       "    }\n",
       "</style>\n",
       "<table border=\"1\" class=\"dataframe\">\n",
       "  <thead>\n",
       "    <tr style=\"text-align: right;\">\n",
       "      <th></th>\n",
       "      <th>metric</th>\n",
       "      <th>value</th>\n",
       "    </tr>\n",
       "  </thead>\n",
       "  <tbody>\n",
       "    <tr>\n",
       "      <th>0</th>\n",
       "      <td>cv_score</td>\n",
       "      <td>0.351684</td>\n",
       "    </tr>\n",
       "    <tr>\n",
       "      <th>1</th>\n",
       "      <td>train_score</td>\n",
       "      <td>0.561091</td>\n",
       "    </tr>\n",
       "    <tr>\n",
       "      <th>2</th>\n",
       "      <td>test_score</td>\n",
       "      <td>0.531809</td>\n",
       "    </tr>\n",
       "  </tbody>\n",
       "</table>\n",
       "</div>"
      ],
      "text/plain": [
       "        metric     value\n",
       "0     cv_score  0.351684\n",
       "1  train_score  0.561091\n",
       "2   test_score  0.531809"
      ]
     },
     "execution_count": 232,
     "metadata": {},
     "output_type": "execute_result"
    }
   ],
   "source": [
    "pipe = Pipeline([\n",
    "    ('var_thresh', VarianceThreshold()),\n",
    "    ('k_best', SelectKBest()),\n",
    "    #('power_t', PowerTransformer()),\n",
    "    ('ss', StandardScaler()),\n",
    "    ('knn', KNeighborsRegressor(n_jobs = -1))\n",
    "])\n",
    "\n",
    "params = {\n",
    "    'var_thresh__threshold': [0, 0.1, 0.3, 0.5],\n",
    "    #'power_t__standardize': [True, False],\n",
    "    'k_best__k':[10],\n",
    "    'knn__n_neighbors':[5,7,10],\n",
    "    'knn__weights':['uniform', 'distance']\n",
    "    \n",
    "}\n",
    "\n",
    "df, y_pred_tr_knn, y_pred_ts_knn = pipe_gs(X_train, X_test, y_train_pt, y_test_pt, pipe, params)\n",
    "df"
   ]
  },
  {
   "cell_type": "markdown",
   "metadata": {},
   "source": [
    "### SVR"
   ]
  },
  {
   "cell_type": "code",
   "execution_count": 233,
   "metadata": {},
   "outputs": [
    {
     "name": "stdout",
     "output_type": "stream",
     "text": [
      "Fitting 3 folds for each of 24 candidates, totalling 72 fits\n"
     ]
    },
    {
     "name": "stderr",
     "output_type": "stream",
     "text": [
      "[Parallel(n_jobs=4)]: Using backend LokyBackend with 4 concurrent workers.\n"
     ]
    },
    {
     "name": "stdout",
     "output_type": "stream",
     "text": [
      "\n",
      "\n",
      "best paramteres: {'k_best__k': 20, 'power_t__standardize': True, 'svr__degree': 3, 'var_thresh__threshold': 0}\n",
      "\n",
      "\n"
     ]
    },
    {
     "name": "stderr",
     "output_type": "stream",
     "text": [
      "[Parallel(n_jobs=4)]: Done  72 out of  72 | elapsed:    1.4s finished\n"
     ]
    },
    {
     "data": {
      "text/html": [
       "<div>\n",
       "<style scoped>\n",
       "    .dataframe tbody tr th:only-of-type {\n",
       "        vertical-align: middle;\n",
       "    }\n",
       "\n",
       "    .dataframe tbody tr th {\n",
       "        vertical-align: top;\n",
       "    }\n",
       "\n",
       "    .dataframe thead th {\n",
       "        text-align: right;\n",
       "    }\n",
       "</style>\n",
       "<table border=\"1\" class=\"dataframe\">\n",
       "  <thead>\n",
       "    <tr style=\"text-align: right;\">\n",
       "      <th></th>\n",
       "      <th>metric</th>\n",
       "      <th>value</th>\n",
       "    </tr>\n",
       "  </thead>\n",
       "  <tbody>\n",
       "    <tr>\n",
       "      <th>0</th>\n",
       "      <td>cv_score</td>\n",
       "      <td>0.495330</td>\n",
       "    </tr>\n",
       "    <tr>\n",
       "      <th>1</th>\n",
       "      <td>train_score</td>\n",
       "      <td>0.689482</td>\n",
       "    </tr>\n",
       "    <tr>\n",
       "      <th>2</th>\n",
       "      <td>test_score</td>\n",
       "      <td>0.525443</td>\n",
       "    </tr>\n",
       "  </tbody>\n",
       "</table>\n",
       "</div>"
      ],
      "text/plain": [
       "        metric     value\n",
       "0     cv_score  0.495330\n",
       "1  train_score  0.689482\n",
       "2   test_score  0.525443"
      ]
     },
     "execution_count": 233,
     "metadata": {},
     "output_type": "execute_result"
    }
   ],
   "source": [
    "pipe = Pipeline([\n",
    "    ('var_thresh', VarianceThreshold()),\n",
    "    ('k_best', SelectKBest()),\n",
    "    ('power_t', PowerTransformer()),\n",
    "    ('ss', StandardScaler()),\n",
    "    ('svr', SVR())\n",
    "])\n",
    "\n",
    "params = {\n",
    "    'var_thresh__threshold': [0, 0.1, 0.3, 0.5],\n",
    "    'power_t__standardize': [True, False],\n",
    "    'k_best__k':[20],\n",
    "    'svr__degree':[3,4,5]\n",
    "}\n",
    "\n",
    "df, y_pred_tr_svr, y_pred_ts_svr = pipe_gs(X_train, X_test, y_train_pt, y_test_pt, pipe, params)\n",
    "df"
   ]
  },
  {
   "cell_type": "markdown",
   "metadata": {},
   "source": [
    "## Random Forest "
   ]
  },
  {
   "cell_type": "code",
   "execution_count": 234,
   "metadata": {},
   "outputs": [
    {
     "name": "stdout",
     "output_type": "stream",
     "text": [
      "Fitting 3 folds for each of 180 candidates, totalling 540 fits\n"
     ]
    },
    {
     "name": "stderr",
     "output_type": "stream",
     "text": [
      "[Parallel(n_jobs=4)]: Using backend LokyBackend with 4 concurrent workers.\n",
      "[Parallel(n_jobs=4)]: Done  42 tasks      | elapsed:    4.4s\n",
      "[Parallel(n_jobs=4)]: Done 192 tasks      | elapsed:   18.7s\n",
      "[Parallel(n_jobs=4)]: Done 442 tasks      | elapsed:   42.7s\n",
      "[Parallel(n_jobs=4)]: Done 540 out of 540 | elapsed:   52.1s finished\n",
      "[Parallel(n_jobs=-1)]: Using backend ThreadingBackend with 8 concurrent workers.\n",
      "[Parallel(n_jobs=-1)]: Done   6 out of  10 | elapsed:    0.0s remaining:    0.0s\n",
      "[Parallel(n_jobs=-1)]: Done  10 out of  10 | elapsed:    0.0s finished\n",
      "[Parallel(n_jobs=8)]: Using backend ThreadingBackend with 8 concurrent workers.\n",
      "[Parallel(n_jobs=8)]: Done   6 out of  10 | elapsed:    0.0s remaining:    0.0s\n",
      "[Parallel(n_jobs=8)]: Done  10 out of  10 | elapsed:    0.0s finished\n"
     ]
    },
    {
     "name": "stdout",
     "output_type": "stream",
     "text": [
      "\n",
      "\n",
      "best paramteres: {'k_best__k': 15, 'power_t__standardize': False, 'rf__max_depth': 4, 'rf__max_features': 'auto', 'rf__min_samples_split': 2, 'rf__n_estimators': 10, 'var_thresh__threshold': 0.3}\n",
      "\n",
      "\n"
     ]
    },
    {
     "name": "stderr",
     "output_type": "stream",
     "text": [
      "[Parallel(n_jobs=8)]: Using backend ThreadingBackend with 8 concurrent workers.\n",
      "[Parallel(n_jobs=8)]: Done   6 out of  10 | elapsed:    0.0s remaining:    0.0s\n",
      "[Parallel(n_jobs=8)]: Done  10 out of  10 | elapsed:    0.0s finished\n",
      "[Parallel(n_jobs=8)]: Using backend ThreadingBackend with 8 concurrent workers.\n",
      "[Parallel(n_jobs=8)]: Done   6 out of  10 | elapsed:    0.0s remaining:    0.0s\n",
      "[Parallel(n_jobs=8)]: Done  10 out of  10 | elapsed:    0.0s finished\n",
      "[Parallel(n_jobs=8)]: Using backend ThreadingBackend with 8 concurrent workers.\n",
      "[Parallel(n_jobs=8)]: Done   6 out of  10 | elapsed:    0.0s remaining:    0.0s\n",
      "[Parallel(n_jobs=8)]: Done  10 out of  10 | elapsed:    0.0s finished\n"
     ]
    },
    {
     "data": {
      "text/html": [
       "<div>\n",
       "<style scoped>\n",
       "    .dataframe tbody tr th:only-of-type {\n",
       "        vertical-align: middle;\n",
       "    }\n",
       "\n",
       "    .dataframe tbody tr th {\n",
       "        vertical-align: top;\n",
       "    }\n",
       "\n",
       "    .dataframe thead th {\n",
       "        text-align: right;\n",
       "    }\n",
       "</style>\n",
       "<table border=\"1\" class=\"dataframe\">\n",
       "  <thead>\n",
       "    <tr style=\"text-align: right;\">\n",
       "      <th></th>\n",
       "      <th>metric</th>\n",
       "      <th>value</th>\n",
       "    </tr>\n",
       "  </thead>\n",
       "  <tbody>\n",
       "    <tr>\n",
       "      <th>0</th>\n",
       "      <td>cv_score</td>\n",
       "      <td>0.537383</td>\n",
       "    </tr>\n",
       "    <tr>\n",
       "      <th>1</th>\n",
       "      <td>train_score</td>\n",
       "      <td>0.772713</td>\n",
       "    </tr>\n",
       "    <tr>\n",
       "      <th>2</th>\n",
       "      <td>test_score</td>\n",
       "      <td>0.588394</td>\n",
       "    </tr>\n",
       "  </tbody>\n",
       "</table>\n",
       "</div>"
      ],
      "text/plain": [
       "        metric     value\n",
       "0     cv_score  0.537383\n",
       "1  train_score  0.772713\n",
       "2   test_score  0.588394"
      ]
     },
     "execution_count": 234,
     "metadata": {},
     "output_type": "execute_result"
    }
   ],
   "source": [
    "pipe = Pipeline([\n",
    "    ('var_thresh', VarianceThreshold()),\n",
    "    ('k_best', SelectKBest()),\n",
    "    ('power_t', PowerTransformer()),\n",
    "    ('ss', StandardScaler()),\n",
    "    ('rf', RandomForestRegressor(n_jobs = -1, verbose = 1))\n",
    "])\n",
    "\n",
    "params = {\n",
    "    'var_thresh__threshold': [0.1, 0.3, 0.5],\n",
    "    'power_t__standardize': [True, False],\n",
    "    'k_best__k':[15],\n",
    "    'rf__n_estimators':[10,20,30,50,100],\n",
    "    'rf__max_depth':[None,  4, 10],\n",
    "    'rf__min_samples_split':[2,4],\n",
    "    'rf__max_features':['auto']\n",
    "    \n",
    "}\n",
    "\n",
    "df, y_pred_tr_rf, y_pred_ts_rf = pipe_gs(X_train, X_test, y_train_pt, y_test_pt, pipe, params)\n",
    "df"
   ]
  },
  {
   "cell_type": "markdown",
   "metadata": {},
   "source": [
    "## AdaBoost"
   ]
  },
  {
   "cell_type": "code",
   "execution_count": 235,
   "metadata": {},
   "outputs": [
    {
     "name": "stderr",
     "output_type": "stream",
     "text": [
      "[Parallel(n_jobs=4)]: Using backend LokyBackend with 4 concurrent workers.\n"
     ]
    },
    {
     "name": "stdout",
     "output_type": "stream",
     "text": [
      "Fitting 3 folds for each of 72 candidates, totalling 216 fits\n"
     ]
    },
    {
     "name": "stderr",
     "output_type": "stream",
     "text": [
      "[Parallel(n_jobs=4)]: Done 144 tasks      | elapsed:    3.7s\n"
     ]
    },
    {
     "name": "stdout",
     "output_type": "stream",
     "text": [
      "\n",
      "\n",
      "best paramteres: {'ada__learning_rate': 2, 'ada__n_estimators': 30, 'k_best__k': 20, 'power_t__standardize': False, 'var_thresh__threshold': 0.3}\n",
      "\n",
      "\n"
     ]
    },
    {
     "name": "stderr",
     "output_type": "stream",
     "text": [
      "[Parallel(n_jobs=4)]: Done 216 out of 216 | elapsed:    5.3s finished\n"
     ]
    },
    {
     "data": {
      "text/html": [
       "<div>\n",
       "<style scoped>\n",
       "    .dataframe tbody tr th:only-of-type {\n",
       "        vertical-align: middle;\n",
       "    }\n",
       "\n",
       "    .dataframe tbody tr th {\n",
       "        vertical-align: top;\n",
       "    }\n",
       "\n",
       "    .dataframe thead th {\n",
       "        text-align: right;\n",
       "    }\n",
       "</style>\n",
       "<table border=\"1\" class=\"dataframe\">\n",
       "  <thead>\n",
       "    <tr style=\"text-align: right;\">\n",
       "      <th></th>\n",
       "      <th>metric</th>\n",
       "      <th>value</th>\n",
       "    </tr>\n",
       "  </thead>\n",
       "  <tbody>\n",
       "    <tr>\n",
       "      <th>0</th>\n",
       "      <td>cv_score</td>\n",
       "      <td>0.538319</td>\n",
       "    </tr>\n",
       "    <tr>\n",
       "      <th>1</th>\n",
       "      <td>train_score</td>\n",
       "      <td>0.776858</td>\n",
       "    </tr>\n",
       "    <tr>\n",
       "      <th>2</th>\n",
       "      <td>test_score</td>\n",
       "      <td>0.492395</td>\n",
       "    </tr>\n",
       "  </tbody>\n",
       "</table>\n",
       "</div>"
      ],
      "text/plain": [
       "        metric     value\n",
       "0     cv_score  0.538319\n",
       "1  train_score  0.776858\n",
       "2   test_score  0.492395"
      ]
     },
     "execution_count": 235,
     "metadata": {},
     "output_type": "execute_result"
    }
   ],
   "source": [
    "pipe = Pipeline([\n",
    "    ('var_thresh', VarianceThreshold()),\n",
    "    ('k_best', SelectKBest()),\n",
    "    ('power_t', PowerTransformer()),\n",
    "    ('ss', StandardScaler()),\n",
    "    ('ada', AdaBoostRegressor())\n",
    "])\n",
    "\n",
    "params = {\n",
    "    'var_thresh__threshold': [0, 0.1, 0.3, 0.5],\n",
    "    'power_t__standardize': [True, False],\n",
    "    'k_best__k':[20],\n",
    "    'ada__learning_rate':[0.5, 1, 2],\n",
    "    'ada__n_estimators':[10, 15, 30]\n",
    "    \n",
    "}\n",
    "\n",
    "df, y_pred_tr_ada, y_pred_ts_ada = pipe_gs(X_train, X_test, y_train_pt, y_test_pt, pipe, params)\n",
    "df"
   ]
  },
  {
   "cell_type": "markdown",
   "metadata": {},
   "source": [
    "## Gradient Boosting "
   ]
  },
  {
   "cell_type": "code",
   "execution_count": 236,
   "metadata": {},
   "outputs": [
    {
     "name": "stderr",
     "output_type": "stream",
     "text": [
      "[Parallel(n_jobs=4)]: Using backend LokyBackend with 4 concurrent workers.\n"
     ]
    },
    {
     "name": "stdout",
     "output_type": "stream",
     "text": [
      "Fitting 3 folds for each of 72 candidates, totalling 216 fits\n",
      "\n",
      "\n",
      "best paramteres: {'gb__learning_rate': 0.5, 'gb__n_estimators': 10, 'k_best__k': 10, 'power_t__standardize': True, 'var_thresh__threshold': 0.5}\n",
      "\n",
      "\n"
     ]
    },
    {
     "name": "stderr",
     "output_type": "stream",
     "text": [
      "[Parallel(n_jobs=4)]: Done 216 out of 216 | elapsed:    2.9s finished\n"
     ]
    },
    {
     "data": {
      "text/html": [
       "<div>\n",
       "<style scoped>\n",
       "    .dataframe tbody tr th:only-of-type {\n",
       "        vertical-align: middle;\n",
       "    }\n",
       "\n",
       "    .dataframe tbody tr th {\n",
       "        vertical-align: top;\n",
       "    }\n",
       "\n",
       "    .dataframe thead th {\n",
       "        text-align: right;\n",
       "    }\n",
       "</style>\n",
       "<table border=\"1\" class=\"dataframe\">\n",
       "  <thead>\n",
       "    <tr style=\"text-align: right;\">\n",
       "      <th></th>\n",
       "      <th>metric</th>\n",
       "      <th>value</th>\n",
       "    </tr>\n",
       "  </thead>\n",
       "  <tbody>\n",
       "    <tr>\n",
       "      <th>0</th>\n",
       "      <td>cv_score</td>\n",
       "      <td>0.388049</td>\n",
       "    </tr>\n",
       "    <tr>\n",
       "      <th>1</th>\n",
       "      <td>train_score</td>\n",
       "      <td>0.864038</td>\n",
       "    </tr>\n",
       "    <tr>\n",
       "      <th>2</th>\n",
       "      <td>test_score</td>\n",
       "      <td>0.437752</td>\n",
       "    </tr>\n",
       "  </tbody>\n",
       "</table>\n",
       "</div>"
      ],
      "text/plain": [
       "        metric     value\n",
       "0     cv_score  0.388049\n",
       "1  train_score  0.864038\n",
       "2   test_score  0.437752"
      ]
     },
     "execution_count": 236,
     "metadata": {},
     "output_type": "execute_result"
    }
   ],
   "source": [
    "pipe = Pipeline([\n",
    "    ('var_thresh', VarianceThreshold()),\n",
    "    ('k_best', SelectKBest()),\n",
    "    ('power_t', PowerTransformer()),\n",
    "    ('ss', StandardScaler()),\n",
    "    ('gb', GradientBoostingRegressor())\n",
    "])\n",
    "\n",
    "params = {\n",
    "    'var_thresh__threshold': [0, 0.1, 0.3, 0.5],\n",
    "    'power_t__standardize': [True, False],\n",
    "    'k_best__k':[10],\n",
    "    'gb__learning_rate':[0.5, 1, 2],\n",
    "    'gb__n_estimators':[10, 15, 30]\n",
    "    \n",
    "}\n",
    "\n",
    "df, y_pred_tr_gb, y_pred_ts_gb = pipe_gs(X_train, X_test, y_train_pt, y_test_pt, pipe, params)\n",
    "df"
   ]
  },
  {
   "cell_type": "markdown",
   "metadata": {},
   "source": [
    "## Bagging"
   ]
  },
  {
   "cell_type": "code",
   "execution_count": 237,
   "metadata": {},
   "outputs": [
    {
     "name": "stderr",
     "output_type": "stream",
     "text": [
      "[Parallel(n_jobs=4)]: Using backend LokyBackend with 4 concurrent workers.\n"
     ]
    },
    {
     "name": "stdout",
     "output_type": "stream",
     "text": [
      "Fitting 3 folds for each of 288 candidates, totalling 864 fits\n"
     ]
    },
    {
     "name": "stderr",
     "output_type": "stream",
     "text": [
      "[Parallel(n_jobs=4)]: Done 212 tasks      | elapsed:    3.8s\n"
     ]
    },
    {
     "name": "stdout",
     "output_type": "stream",
     "text": [
      "\n",
      "\n",
      "best paramteres: {'bag__max_features': 1.0, 'bag__max_samples': 0.5, 'bag__n_estimators': 15, 'k_best__k': 10, 'power_t__standardize': True, 'var_thresh__threshold': 0.3}\n",
      "\n",
      "\n"
     ]
    },
    {
     "name": "stderr",
     "output_type": "stream",
     "text": [
      "[Parallel(n_jobs=4)]: Done 864 out of 864 | elapsed:   15.2s finished\n"
     ]
    },
    {
     "data": {
      "text/html": [
       "<div>\n",
       "<style scoped>\n",
       "    .dataframe tbody tr th:only-of-type {\n",
       "        vertical-align: middle;\n",
       "    }\n",
       "\n",
       "    .dataframe tbody tr th {\n",
       "        vertical-align: top;\n",
       "    }\n",
       "\n",
       "    .dataframe thead th {\n",
       "        text-align: right;\n",
       "    }\n",
       "</style>\n",
       "<table border=\"1\" class=\"dataframe\">\n",
       "  <thead>\n",
       "    <tr style=\"text-align: right;\">\n",
       "      <th></th>\n",
       "      <th>metric</th>\n",
       "      <th>value</th>\n",
       "    </tr>\n",
       "  </thead>\n",
       "  <tbody>\n",
       "    <tr>\n",
       "      <th>0</th>\n",
       "      <td>cv_score</td>\n",
       "      <td>0.528607</td>\n",
       "    </tr>\n",
       "    <tr>\n",
       "      <th>1</th>\n",
       "      <td>train_score</td>\n",
       "      <td>0.818254</td>\n",
       "    </tr>\n",
       "    <tr>\n",
       "      <th>2</th>\n",
       "      <td>test_score</td>\n",
       "      <td>0.586712</td>\n",
       "    </tr>\n",
       "  </tbody>\n",
       "</table>\n",
       "</div>"
      ],
      "text/plain": [
       "        metric     value\n",
       "0     cv_score  0.528607\n",
       "1  train_score  0.818254\n",
       "2   test_score  0.586712"
      ]
     },
     "execution_count": 237,
     "metadata": {},
     "output_type": "execute_result"
    }
   ],
   "source": [
    "pipe = Pipeline([\n",
    "    ('var_thresh', VarianceThreshold()),\n",
    "    ('k_best', SelectKBest()),\n",
    "    ('power_t', PowerTransformer()),\n",
    "    #('ss', StandardScaler()),\n",
    "    ('bag', BaggingRegressor())\n",
    "])\n",
    "\n",
    "params = {\n",
    "    'var_thresh__threshold': [0, 0.1, 0.3, 0.5],\n",
    "    'power_t__standardize': [True, False],\n",
    "    'k_best__k':[10],\n",
    "    'bag__n_estimators':[10, 15, 30, 50],\n",
    "    'bag__max_features':[0.5,0.75, 1.],\n",
    "    'bag__max_samples':[0.5, 0.75, 1.]\n",
    "    \n",
    "    \n",
    "}\n",
    "\n",
    "df, y_pred_tr_bag, y_pred_ts_bag = pipe_gs(X_train, X_test, y_train_pt, y_test_pt, pipe, params)\n",
    "df"
   ]
  },
  {
   "cell_type": "code",
   "execution_count": 238,
   "metadata": {},
   "outputs": [
    {
     "name": "stderr",
     "output_type": "stream",
     "text": [
      "[Parallel(n_jobs=4)]: Using backend LokyBackend with 4 concurrent workers.\n"
     ]
    },
    {
     "name": "stdout",
     "output_type": "stream",
     "text": [
      "Fitting 3 folds for each of 240 candidates, totalling 720 fits\n"
     ]
    },
    {
     "name": "stderr",
     "output_type": "stream",
     "text": [
      "[Parallel(n_jobs=4)]: Done 144 tasks      | elapsed:    2.9s\n"
     ]
    },
    {
     "name": "stdout",
     "output_type": "stream",
     "text": [
      "\n",
      "\n",
      "best paramteres: {'et__max_depth': 4, 'et__max_features': 'auto', 'et__min_samples_split': 4, 'et__n_estimators': 10, 'k_best__k': 11, 'power_t__standardize': False, 'var_thresh__threshold': 0.5}\n",
      "\n",
      "\n"
     ]
    },
    {
     "name": "stderr",
     "output_type": "stream",
     "text": [
      "[Parallel(n_jobs=4)]: Done 720 out of 720 | elapsed:   14.1s finished\n"
     ]
    },
    {
     "data": {
      "text/html": [
       "<div>\n",
       "<style scoped>\n",
       "    .dataframe tbody tr th:only-of-type {\n",
       "        vertical-align: middle;\n",
       "    }\n",
       "\n",
       "    .dataframe tbody tr th {\n",
       "        vertical-align: top;\n",
       "    }\n",
       "\n",
       "    .dataframe thead th {\n",
       "        text-align: right;\n",
       "    }\n",
       "</style>\n",
       "<table border=\"1\" class=\"dataframe\">\n",
       "  <thead>\n",
       "    <tr style=\"text-align: right;\">\n",
       "      <th></th>\n",
       "      <th>metric</th>\n",
       "      <th>value</th>\n",
       "    </tr>\n",
       "  </thead>\n",
       "  <tbody>\n",
       "    <tr>\n",
       "      <th>0</th>\n",
       "      <td>cv_score</td>\n",
       "      <td>0.515862</td>\n",
       "    </tr>\n",
       "    <tr>\n",
       "      <th>1</th>\n",
       "      <td>train_score</td>\n",
       "      <td>0.716776</td>\n",
       "    </tr>\n",
       "    <tr>\n",
       "      <th>2</th>\n",
       "      <td>test_score</td>\n",
       "      <td>0.495532</td>\n",
       "    </tr>\n",
       "  </tbody>\n",
       "</table>\n",
       "</div>"
      ],
      "text/plain": [
       "        metric     value\n",
       "0     cv_score  0.515862\n",
       "1  train_score  0.716776\n",
       "2   test_score  0.495532"
      ]
     },
     "execution_count": 238,
     "metadata": {},
     "output_type": "execute_result"
    }
   ],
   "source": [
    "pipe = Pipeline([\n",
    "    ('var_thresh', VarianceThreshold()),\n",
    "    ('k_best', SelectKBest()),\n",
    "    ('power_t', PowerTransformer()),\n",
    "    #('ss', StandardScaler()),\n",
    "    ('et', ExtraTreesRegressor())\n",
    "])\n",
    "\n",
    "params = {\n",
    "    'var_thresh__threshold': [0, 0.1, 0.3, 0.5],\n",
    "    'power_t__standardize': [True, False],\n",
    "    'k_best__k':[11],\n",
    "    'et__n_estimators':[10,20,30,50,100],\n",
    "    'et__max_depth':[None,  4, 10],\n",
    "    'et__min_samples_split':[2,4],\n",
    "    'et__max_features':['auto']\n",
    "    \n",
    "}\n",
    "\n",
    "df, y_pred_tr_et, y_pred_ts_et = pipe_gs(X_train, X_test, y_train_pt, y_test_pt, pipe, params)\n",
    "df"
   ]
  },
  {
   "cell_type": "markdown",
   "metadata": {},
   "source": [
    "We can see that on average the test scores have significantly improved as compare to the base case models after doing a grid search. We also note that the variance has on average reduced after the grid search. But let's see if we can get even better performance with stacking these models."
   ]
  },
  {
   "cell_type": "markdown",
   "metadata": {},
   "source": [
    "# 2.3. Model Stacking "
   ]
  },
  {
   "cell_type": "markdown",
   "metadata": {},
   "source": [
    "### What is model stacking?"
   ]
  },
  {
   "cell_type": "markdown",
   "metadata": {},
   "source": [
    "Model stacking is a meta-ensembling technique which uses predictions from models (in our case the best modles produced with gridsearch) and includes these predictions as new features in a new dataset to build a meta-model. The purpose of stacking is to increase the performance of the base models. "
   ]
  },
  {
   "cell_type": "markdown",
   "metadata": {},
   "source": [
    "![model_stack](../images/model_stacking.png)"
   ]
  },
  {
   "cell_type": "markdown",
   "metadata": {},
   "source": [
    "While there are several styles of model stacking, the stacking method we use here follows the procedure in [A Kaggler's Guide to Model Stacking in Practice](http://blog.kaggle.com/2016/12/27/a-kagglers-guide-to-model-stacking-in-practice/). The source of the picture above comes from another article called [Stacking MOdels for Improved Predictions](https://www.kdnuggets.com/2017/02/stacking-models-imropved-predictions.html) which also has a good discussion on how to employ the model stacking techinque. "
   ]
  },
  {
   "cell_type": "markdown",
   "metadata": {},
   "source": [
    "In the case of three models (namely linear regression, knn and ridge), scikit-learn outputs the predictions in a list of lists, wheter the inside lists that are the elements of the outside list contain a single prediction value. In order to pass these predictions as features in a new stacking-model dataset, we need to convert this data structure into a simple list with elements of the list being the actual prediction values themselves. The function below is designed to accomplish that. "
   ]
  },
  {
   "cell_type": "code",
   "execution_count": 240,
   "metadata": {},
   "outputs": [],
   "source": [
    "# Convert a list of lists into a simple list \n",
    "\n",
    "def get_element(lst): \n",
    "    new_lst = []\n",
    "    for i in range(0,len(lst)):\n",
    "        new_lst.append(lst[i][0])\n",
    "    return new_lst"
   ]
  },
  {
   "cell_type": "code",
   "execution_count": 243,
   "metadata": {},
   "outputs": [],
   "source": [
    "# convert linear regression predictions\n",
    "lm_tr = get_element(y_pred_tr_lm)\n",
    "lm_ts = get_element(y_pred_ts_lm)\n",
    "\n",
    "# convert knn predictions \n",
    "knn_tr = get_element(y_pred_tr_knn)\n",
    "knn_ts = get_element(y_pred_ts_knn)\n",
    "\n",
    "# convert ridge predictions \n",
    "ridge_tr = get_element(y_pred_tr_ridge)\n",
    "ridge_ts = get_element(y_pred_ts_ridge)"
   ]
  },
  {
   "cell_type": "markdown",
   "metadata": {},
   "source": [
    "### 2.3.1. Create a stack_train dataset comprised of predictions on train-set from base models as its features  and the same index as the X_train dataset "
   ]
  },
  {
   "cell_type": "code",
   "execution_count": 276,
   "metadata": {},
   "outputs": [
    {
     "name": "stdout",
     "output_type": "stream",
     "text": [
      "(201, 10)\n",
      "(201, 36)\n",
      "(201, 1)\n"
     ]
    },
    {
     "data": {
      "text/html": [
       "<div>\n",
       "<style scoped>\n",
       "    .dataframe tbody tr th:only-of-type {\n",
       "        vertical-align: middle;\n",
       "    }\n",
       "\n",
       "    .dataframe tbody tr th {\n",
       "        vertical-align: top;\n",
       "    }\n",
       "\n",
       "    .dataframe thead th {\n",
       "        text-align: right;\n",
       "    }\n",
       "</style>\n",
       "<table border=\"1\" class=\"dataframe\">\n",
       "  <thead>\n",
       "    <tr style=\"text-align: right;\">\n",
       "      <th></th>\n",
       "      <th>lm_tr</th>\n",
       "      <th>knn_tr</th>\n",
       "      <th>lasso_tr</th>\n",
       "      <th>ridge_tr</th>\n",
       "      <th>svr_tr</th>\n",
       "      <th>rf_tr</th>\n",
       "      <th>et_tr</th>\n",
       "      <th>bag_tr</th>\n",
       "      <th>ada_tr</th>\n",
       "      <th>gb_tr</th>\n",
       "    </tr>\n",
       "  </thead>\n",
       "  <tbody>\n",
       "    <tr>\n",
       "      <th>219</th>\n",
       "      <td>0.090137</td>\n",
       "      <td>0.099403</td>\n",
       "      <td>0.107924</td>\n",
       "      <td>0.068553</td>\n",
       "      <td>0.086988</td>\n",
       "      <td>0.132807</td>\n",
       "      <td>0.093255</td>\n",
       "      <td>0.111412</td>\n",
       "      <td>0.133569</td>\n",
       "      <td>0.026603</td>\n",
       "    </tr>\n",
       "    <tr>\n",
       "      <th>93</th>\n",
       "      <td>-0.247126</td>\n",
       "      <td>-0.878294</td>\n",
       "      <td>-1.185601</td>\n",
       "      <td>-0.052033</td>\n",
       "      <td>0.160444</td>\n",
       "      <td>-1.448315</td>\n",
       "      <td>-1.045100</td>\n",
       "      <td>-0.807891</td>\n",
       "      <td>-1.623255</td>\n",
       "      <td>-1.957577</td>\n",
       "    </tr>\n",
       "    <tr>\n",
       "      <th>23</th>\n",
       "      <td>-0.045756</td>\n",
       "      <td>-0.020433</td>\n",
       "      <td>-0.026508</td>\n",
       "      <td>-0.084842</td>\n",
       "      <td>-0.082505</td>\n",
       "      <td>0.201128</td>\n",
       "      <td>0.201227</td>\n",
       "      <td>-0.013375</td>\n",
       "      <td>0.133569</td>\n",
       "      <td>0.157983</td>\n",
       "    </tr>\n",
       "    <tr>\n",
       "      <th>128</th>\n",
       "      <td>1.549250</td>\n",
       "      <td>0.949079</td>\n",
       "      <td>1.279269</td>\n",
       "      <td>1.339774</td>\n",
       "      <td>1.196135</td>\n",
       "      <td>1.237850</td>\n",
       "      <td>0.951887</td>\n",
       "      <td>1.214984</td>\n",
       "      <td>1.269661</td>\n",
       "      <td>1.544486</td>\n",
       "    </tr>\n",
       "    <tr>\n",
       "      <th>279</th>\n",
       "      <td>-1.696552</td>\n",
       "      <td>-1.843712</td>\n",
       "      <td>-0.830612</td>\n",
       "      <td>-1.642612</td>\n",
       "      <td>-1.971192</td>\n",
       "      <td>-1.655479</td>\n",
       "      <td>-1.716310</td>\n",
       "      <td>-1.704498</td>\n",
       "      <td>-1.547196</td>\n",
       "      <td>-1.766449</td>\n",
       "    </tr>\n",
       "  </tbody>\n",
       "</table>\n",
       "</div>"
      ],
      "text/plain": [
       "        lm_tr    knn_tr  lasso_tr  ridge_tr    svr_tr     rf_tr     et_tr  \\\n",
       "219  0.090137  0.099403  0.107924  0.068553  0.086988  0.132807  0.093255   \n",
       "93  -0.247126 -0.878294 -1.185601 -0.052033  0.160444 -1.448315 -1.045100   \n",
       "23  -0.045756 -0.020433 -0.026508 -0.084842 -0.082505  0.201128  0.201227   \n",
       "128  1.549250  0.949079  1.279269  1.339774  1.196135  1.237850  0.951887   \n",
       "279 -1.696552 -1.843712 -0.830612 -1.642612 -1.971192 -1.655479 -1.716310   \n",
       "\n",
       "       bag_tr    ada_tr     gb_tr  \n",
       "219  0.111412  0.133569  0.026603  \n",
       "93  -0.807891 -1.623255 -1.957577  \n",
       "23  -0.013375  0.133569  0.157983  \n",
       "128  1.214984  1.269661  1.544486  \n",
       "279 -1.704498 -1.547196 -1.766449  "
      ]
     },
     "execution_count": 276,
     "metadata": {},
     "output_type": "execute_result"
    }
   ],
   "source": [
    "d_tr = {'lm_tr':lm_tr,\n",
    "     'knn_tr':knn_tr,\n",
    "     'lasso_tr':y_pred_tr_lasso,\n",
    "     'ridge_tr':ridge_tr,\n",
    "     'svr_tr':y_pred_tr_svr,\n",
    "     'rf_tr':y_pred_tr_rf,\n",
    "     'et_tr':y_pred_tr_et,\n",
    "     'bag_tr':y_pred_tr_bag, \n",
    "     'ada_tr':y_pred_tr_ada, \n",
    "     'gb_tr':y_pred_tr_gb\n",
    "    }\n",
    "\n",
    "stack_train = pd.DataFrame(d_tr, index = X_train.index)\n",
    "print(stack_train.shape)\n",
    "print(X_train.shape)\n",
    "print(y_train_pt.shape)\n",
    "stack_train.head()"
   ]
  },
  {
   "cell_type": "markdown",
   "metadata": {},
   "source": [
    "### 2.3.2. Create a stack_test dataset comprised of predictions on test-set from base models as its features and the same index as the X_test dataset "
   ]
  },
  {
   "cell_type": "code",
   "execution_count": 275,
   "metadata": {},
   "outputs": [
    {
     "name": "stdout",
     "output_type": "stream",
     "text": [
      "(68, 10)\n",
      "(68, 36)\n",
      "(68, 1)\n"
     ]
    },
    {
     "data": {
      "text/html": [
       "<div>\n",
       "<style scoped>\n",
       "    .dataframe tbody tr th:only-of-type {\n",
       "        vertical-align: middle;\n",
       "    }\n",
       "\n",
       "    .dataframe tbody tr th {\n",
       "        vertical-align: top;\n",
       "    }\n",
       "\n",
       "    .dataframe thead th {\n",
       "        text-align: right;\n",
       "    }\n",
       "</style>\n",
       "<table border=\"1\" class=\"dataframe\">\n",
       "  <thead>\n",
       "    <tr style=\"text-align: right;\">\n",
       "      <th></th>\n",
       "      <th>lm_ts</th>\n",
       "      <th>knn_ts</th>\n",
       "      <th>lasso_ts</th>\n",
       "      <th>ridge_ts</th>\n",
       "      <th>svr_ts</th>\n",
       "      <th>rf_ts</th>\n",
       "      <th>et_ts</th>\n",
       "      <th>bag_ts</th>\n",
       "      <th>ada_ts</th>\n",
       "      <th>gb_ts</th>\n",
       "    </tr>\n",
       "  </thead>\n",
       "  <tbody>\n",
       "    <tr>\n",
       "      <th>39</th>\n",
       "      <td>0.060295</td>\n",
       "      <td>0.002583</td>\n",
       "      <td>0.072022</td>\n",
       "      <td>-0.104824</td>\n",
       "      <td>-0.140548</td>\n",
       "      <td>0.020564</td>\n",
       "      <td>0.012997</td>\n",
       "      <td>-0.444745</td>\n",
       "      <td>-0.087807</td>\n",
       "      <td>-0.172304</td>\n",
       "    </tr>\n",
       "    <tr>\n",
       "      <th>145</th>\n",
       "      <td>-1.370676</td>\n",
       "      <td>-1.947677</td>\n",
       "      <td>-1.111589</td>\n",
       "      <td>-1.479059</td>\n",
       "      <td>-2.084812</td>\n",
       "      <td>-1.798208</td>\n",
       "      <td>-1.764722</td>\n",
       "      <td>-1.688364</td>\n",
       "      <td>-1.663964</td>\n",
       "      <td>-1.766449</td>\n",
       "    </tr>\n",
       "    <tr>\n",
       "      <th>101</th>\n",
       "      <td>-1.950774</td>\n",
       "      <td>-1.525548</td>\n",
       "      <td>-1.696322</td>\n",
       "      <td>-1.298742</td>\n",
       "      <td>-1.479975</td>\n",
       "      <td>-1.373886</td>\n",
       "      <td>-1.279308</td>\n",
       "      <td>-1.190606</td>\n",
       "      <td>-1.499854</td>\n",
       "      <td>-1.073959</td>\n",
       "    </tr>\n",
       "    <tr>\n",
       "      <th>157</th>\n",
       "      <td>-1.403941</td>\n",
       "      <td>-1.234732</td>\n",
       "      <td>-0.880430</td>\n",
       "      <td>-1.525698</td>\n",
       "      <td>-1.139142</td>\n",
       "      <td>-1.381793</td>\n",
       "      <td>-1.316552</td>\n",
       "      <td>-1.300312</td>\n",
       "      <td>-1.262005</td>\n",
       "      <td>-1.493626</td>\n",
       "    </tr>\n",
       "    <tr>\n",
       "      <th>233</th>\n",
       "      <td>-1.383431</td>\n",
       "      <td>-1.809022</td>\n",
       "      <td>-0.908100</td>\n",
       "      <td>-1.500051</td>\n",
       "      <td>-1.983519</td>\n",
       "      <td>-1.566503</td>\n",
       "      <td>-1.576332</td>\n",
       "      <td>-1.400995</td>\n",
       "      <td>-1.547196</td>\n",
       "      <td>-1.596482</td>\n",
       "    </tr>\n",
       "  </tbody>\n",
       "</table>\n",
       "</div>"
      ],
      "text/plain": [
       "        lm_ts    knn_ts  lasso_ts  ridge_ts    svr_ts     rf_ts     et_ts  \\\n",
       "39   0.060295  0.002583  0.072022 -0.104824 -0.140548  0.020564  0.012997   \n",
       "145 -1.370676 -1.947677 -1.111589 -1.479059 -2.084812 -1.798208 -1.764722   \n",
       "101 -1.950774 -1.525548 -1.696322 -1.298742 -1.479975 -1.373886 -1.279308   \n",
       "157 -1.403941 -1.234732 -0.880430 -1.525698 -1.139142 -1.381793 -1.316552   \n",
       "233 -1.383431 -1.809022 -0.908100 -1.500051 -1.983519 -1.566503 -1.576332   \n",
       "\n",
       "       bag_ts    ada_ts     gb_ts  \n",
       "39  -0.444745 -0.087807 -0.172304  \n",
       "145 -1.688364 -1.663964 -1.766449  \n",
       "101 -1.190606 -1.499854 -1.073959  \n",
       "157 -1.300312 -1.262005 -1.493626  \n",
       "233 -1.400995 -1.547196 -1.596482  "
      ]
     },
     "execution_count": 275,
     "metadata": {},
     "output_type": "execute_result"
    }
   ],
   "source": [
    "d_ts = {'lm_ts':lm_ts,\n",
    "     'knn_ts':knn_ts,\n",
    "     'lasso_ts':y_pred_ts_lasso,\n",
    "     'ridge_ts':ridge_ts,\n",
    "     'svr_ts':y_pred_ts_svr,\n",
    "     'rf_ts':y_pred_ts_rf,\n",
    "     'et_ts':y_pred_ts_et,\n",
    "     'bag_ts':y_pred_ts_bag, \n",
    "     'ada_ts':y_pred_ts_ada, \n",
    "     'gb_ts':y_pred_ts_gb\n",
    "    }\n",
    "\n",
    "stack_test = pd.DataFrame(d_ts, index = X_test.index)\n",
    "print(stack_test.shape)\n",
    "print(X_test.shape)\n",
    "print(y_test_pt.shape)\n",
    "stack_test.head()"
   ]
  },
  {
   "cell_type": "markdown",
   "metadata": {},
   "source": [
    "### 2.3.3. Create a new training and testing set using the orld train and test sets and concatinating those with stack_train and stack_test respectively"
   ]
  },
  {
   "cell_type": "code",
   "execution_count": 253,
   "metadata": {},
   "outputs": [],
   "source": [
    "X_train_meta = pd.concat([X_train, stack_train], axis = 1)"
   ]
  },
  {
   "cell_type": "code",
   "execution_count": 254,
   "metadata": {},
   "outputs": [],
   "source": [
    "X_test_meta = pd.concat([X_test, stack_test], axis = 1)"
   ]
  },
  {
   "cell_type": "code",
   "execution_count": 255,
   "metadata": {},
   "outputs": [
    {
     "name": "stdout",
     "output_type": "stream",
     "text": [
      "(201, 46)\n",
      "(68, 46)\n",
      "(201,)\n",
      "(68,)\n"
     ]
    }
   ],
   "source": [
    "print(X_train_meta.shape)\n",
    "print(X_test_meta.shape)\n",
    "print(y_train.shape)\n",
    "print(y_test.shape)"
   ]
  },
  {
   "cell_type": "code",
   "execution_count": 256,
   "metadata": {},
   "outputs": [
    {
     "data": {
      "text/html": [
       "<div>\n",
       "<style scoped>\n",
       "    .dataframe tbody tr th:only-of-type {\n",
       "        vertical-align: middle;\n",
       "    }\n",
       "\n",
       "    .dataframe tbody tr th {\n",
       "        vertical-align: top;\n",
       "    }\n",
       "\n",
       "    .dataframe thead th {\n",
       "        text-align: right;\n",
       "    }\n",
       "</style>\n",
       "<table border=\"1\" class=\"dataframe\">\n",
       "  <thead>\n",
       "    <tr style=\"text-align: right;\">\n",
       "      <th></th>\n",
       "      <th>.25_acres_or_&lt;_num_fire_size</th>\n",
       "      <th>av_ac_brn_0.125</th>\n",
       "      <th>.26-9.99_acres_num_fire_size</th>\n",
       "      <th>av_ac_brn_8.865</th>\n",
       "      <th>10-99_acres_num_fire_size</th>\n",
       "      <th>av_ac_brn_44.5</th>\n",
       "      <th>100-299_acres_num_fire_size</th>\n",
       "      <th>av_ac_brn_99.5</th>\n",
       "      <th>300-999_acres_num_fire_size</th>\n",
       "      <th>av_ac_brn_349.5</th>\n",
       "      <th>...</th>\n",
       "      <th>lm_tr</th>\n",
       "      <th>knn_tr</th>\n",
       "      <th>lasso_tr</th>\n",
       "      <th>ridge_tr</th>\n",
       "      <th>svr_tr</th>\n",
       "      <th>rf_tr</th>\n",
       "      <th>et_tr</th>\n",
       "      <th>bag_tr</th>\n",
       "      <th>ada_tr</th>\n",
       "      <th>gb_tr</th>\n",
       "    </tr>\n",
       "  </thead>\n",
       "  <tbody>\n",
       "    <tr>\n",
       "      <th>219</th>\n",
       "      <td>29</td>\n",
       "      <td>3.625</td>\n",
       "      <td>35</td>\n",
       "      <td>170.275</td>\n",
       "      <td>3</td>\n",
       "      <td>133.5</td>\n",
       "      <td>1</td>\n",
       "      <td>99.5</td>\n",
       "      <td>0</td>\n",
       "      <td>0.0</td>\n",
       "      <td>...</td>\n",
       "      <td>0.090137</td>\n",
       "      <td>0.099403</td>\n",
       "      <td>0.107924</td>\n",
       "      <td>0.068553</td>\n",
       "      <td>0.086988</td>\n",
       "      <td>0.132807</td>\n",
       "      <td>0.093255</td>\n",
       "      <td>0.111412</td>\n",
       "      <td>0.133569</td>\n",
       "      <td>0.026603</td>\n",
       "    </tr>\n",
       "    <tr>\n",
       "      <th>93</th>\n",
       "      <td>1</td>\n",
       "      <td>0.125</td>\n",
       "      <td>1</td>\n",
       "      <td>4.865</td>\n",
       "      <td>3</td>\n",
       "      <td>133.5</td>\n",
       "      <td>0</td>\n",
       "      <td>0.0</td>\n",
       "      <td>1</td>\n",
       "      <td>349.5</td>\n",
       "      <td>...</td>\n",
       "      <td>-0.247126</td>\n",
       "      <td>-0.878294</td>\n",
       "      <td>-1.185601</td>\n",
       "      <td>-0.052033</td>\n",
       "      <td>0.160444</td>\n",
       "      <td>-1.448315</td>\n",
       "      <td>-1.045100</td>\n",
       "      <td>-0.807891</td>\n",
       "      <td>-1.623255</td>\n",
       "      <td>-1.957577</td>\n",
       "    </tr>\n",
       "    <tr>\n",
       "      <th>23</th>\n",
       "      <td>48</td>\n",
       "      <td>6.000</td>\n",
       "      <td>57</td>\n",
       "      <td>277.305</td>\n",
       "      <td>5</td>\n",
       "      <td>222.5</td>\n",
       "      <td>0</td>\n",
       "      <td>0.0</td>\n",
       "      <td>0</td>\n",
       "      <td>0.0</td>\n",
       "      <td>...</td>\n",
       "      <td>-0.045756</td>\n",
       "      <td>-0.020433</td>\n",
       "      <td>-0.026508</td>\n",
       "      <td>-0.084842</td>\n",
       "      <td>-0.082505</td>\n",
       "      <td>0.201128</td>\n",
       "      <td>0.201227</td>\n",
       "      <td>-0.013375</td>\n",
       "      <td>0.133569</td>\n",
       "      <td>0.157983</td>\n",
       "    </tr>\n",
       "    <tr>\n",
       "      <th>128</th>\n",
       "      <td>30</td>\n",
       "      <td>3.750</td>\n",
       "      <td>34</td>\n",
       "      <td>165.410</td>\n",
       "      <td>8</td>\n",
       "      <td>356.0</td>\n",
       "      <td>2</td>\n",
       "      <td>199.0</td>\n",
       "      <td>1</td>\n",
       "      <td>349.5</td>\n",
       "      <td>...</td>\n",
       "      <td>1.549250</td>\n",
       "      <td>0.949079</td>\n",
       "      <td>1.279269</td>\n",
       "      <td>1.339774</td>\n",
       "      <td>1.196135</td>\n",
       "      <td>1.237850</td>\n",
       "      <td>0.951887</td>\n",
       "      <td>1.214984</td>\n",
       "      <td>1.269661</td>\n",
       "      <td>1.544486</td>\n",
       "    </tr>\n",
       "    <tr>\n",
       "      <th>279</th>\n",
       "      <td>4</td>\n",
       "      <td>0.500</td>\n",
       "      <td>2</td>\n",
       "      <td>9.730</td>\n",
       "      <td>0</td>\n",
       "      <td>0.0</td>\n",
       "      <td>0</td>\n",
       "      <td>0.0</td>\n",
       "      <td>0</td>\n",
       "      <td>0.0</td>\n",
       "      <td>...</td>\n",
       "      <td>-1.696552</td>\n",
       "      <td>-1.843712</td>\n",
       "      <td>-0.830612</td>\n",
       "      <td>-1.642612</td>\n",
       "      <td>-1.971192</td>\n",
       "      <td>-1.655479</td>\n",
       "      <td>-1.716310</td>\n",
       "      <td>-1.704498</td>\n",
       "      <td>-1.547196</td>\n",
       "      <td>-1.766449</td>\n",
       "    </tr>\n",
       "  </tbody>\n",
       "</table>\n",
       "<p>5 rows × 46 columns</p>\n",
       "</div>"
      ],
      "text/plain": [
       "     .25_acres_or_<_num_fire_size  av_ac_brn_0.125  \\\n",
       "219                            29            3.625   \n",
       "93                              1            0.125   \n",
       "23                             48            6.000   \n",
       "128                            30            3.750   \n",
       "279                             4            0.500   \n",
       "\n",
       "     .26-9.99_acres_num_fire_size  av_ac_brn_8.865  10-99_acres_num_fire_size  \\\n",
       "219                            35          170.275                          3   \n",
       "93                              1            4.865                          3   \n",
       "23                             57          277.305                          5   \n",
       "128                            34          165.410                          8   \n",
       "279                             2            9.730                          0   \n",
       "\n",
       "     av_ac_brn_44.5  100-299_acres_num_fire_size  av_ac_brn_99.5  \\\n",
       "219           133.5                            1            99.5   \n",
       "93            133.5                            0             0.0   \n",
       "23            222.5                            0             0.0   \n",
       "128           356.0                            2           199.0   \n",
       "279             0.0                            0             0.0   \n",
       "\n",
       "     300-999_acres_num_fire_size  av_ac_brn_349.5  ...     lm_tr    knn_tr  \\\n",
       "219                            0              0.0  ...  0.090137  0.099403   \n",
       "93                             1            349.5  ... -0.247126 -0.878294   \n",
       "23                             0              0.0  ... -0.045756 -0.020433   \n",
       "128                            1            349.5  ...  1.549250  0.949079   \n",
       "279                            0              0.0  ... -1.696552 -1.843712   \n",
       "\n",
       "     lasso_tr  ridge_tr    svr_tr     rf_tr     et_tr    bag_tr    ada_tr  \\\n",
       "219  0.107924  0.068553  0.086988  0.132807  0.093255  0.111412  0.133569   \n",
       "93  -1.185601 -0.052033  0.160444 -1.448315 -1.045100 -0.807891 -1.623255   \n",
       "23  -0.026508 -0.084842 -0.082505  0.201128  0.201227 -0.013375  0.133569   \n",
       "128  1.279269  1.339774  1.196135  1.237850  0.951887  1.214984  1.269661   \n",
       "279 -0.830612 -1.642612 -1.971192 -1.655479 -1.716310 -1.704498 -1.547196   \n",
       "\n",
       "        gb_tr  \n",
       "219  0.026603  \n",
       "93  -1.957577  \n",
       "23   0.157983  \n",
       "128  1.544486  \n",
       "279 -1.766449  \n",
       "\n",
       "[5 rows x 46 columns]"
      ]
     },
     "execution_count": 256,
     "metadata": {},
     "output_type": "execute_result"
    }
   ],
   "source": [
    "X_train_meta.head()"
   ]
  },
  {
   "cell_type": "code",
   "execution_count": 258,
   "metadata": {},
   "outputs": [
    {
     "data": {
      "text/html": [
       "<div>\n",
       "<style scoped>\n",
       "    .dataframe tbody tr th:only-of-type {\n",
       "        vertical-align: middle;\n",
       "    }\n",
       "\n",
       "    .dataframe tbody tr th {\n",
       "        vertical-align: top;\n",
       "    }\n",
       "\n",
       "    .dataframe thead th {\n",
       "        text-align: right;\n",
       "    }\n",
       "</style>\n",
       "<table border=\"1\" class=\"dataframe\">\n",
       "  <thead>\n",
       "    <tr style=\"text-align: right;\">\n",
       "      <th></th>\n",
       "      <th>.25_acres_or_&lt;_num_fire_size</th>\n",
       "      <th>av_ac_brn_0.125</th>\n",
       "      <th>.26-9.99_acres_num_fire_size</th>\n",
       "      <th>av_ac_brn_8.865</th>\n",
       "      <th>10-99_acres_num_fire_size</th>\n",
       "      <th>av_ac_brn_44.5</th>\n",
       "      <th>100-299_acres_num_fire_size</th>\n",
       "      <th>av_ac_brn_99.5</th>\n",
       "      <th>300-999_acres_num_fire_size</th>\n",
       "      <th>av_ac_brn_349.5</th>\n",
       "      <th>...</th>\n",
       "      <th>lm_ts</th>\n",
       "      <th>knn_ts</th>\n",
       "      <th>lasso_ts</th>\n",
       "      <th>ridge_ts</th>\n",
       "      <th>svr_ts</th>\n",
       "      <th>rf_ts</th>\n",
       "      <th>et_ts</th>\n",
       "      <th>bag_ts</th>\n",
       "      <th>ada_ts</th>\n",
       "      <th>gb_ts</th>\n",
       "    </tr>\n",
       "  </thead>\n",
       "  <tbody>\n",
       "    <tr>\n",
       "      <th>39</th>\n",
       "      <td>25</td>\n",
       "      <td>3.125</td>\n",
       "      <td>31</td>\n",
       "      <td>150.815</td>\n",
       "      <td>3</td>\n",
       "      <td>133.5</td>\n",
       "      <td>0</td>\n",
       "      <td>0.0</td>\n",
       "      <td>0</td>\n",
       "      <td>0.0</td>\n",
       "      <td>...</td>\n",
       "      <td>0.060295</td>\n",
       "      <td>0.002583</td>\n",
       "      <td>0.072022</td>\n",
       "      <td>-0.104824</td>\n",
       "      <td>-0.140548</td>\n",
       "      <td>0.020564</td>\n",
       "      <td>0.012997</td>\n",
       "      <td>-0.444745</td>\n",
       "      <td>-0.087807</td>\n",
       "      <td>-0.172304</td>\n",
       "    </tr>\n",
       "    <tr>\n",
       "      <th>145</th>\n",
       "      <td>2</td>\n",
       "      <td>0.250</td>\n",
       "      <td>2</td>\n",
       "      <td>9.730</td>\n",
       "      <td>0</td>\n",
       "      <td>0.0</td>\n",
       "      <td>0</td>\n",
       "      <td>0.0</td>\n",
       "      <td>0</td>\n",
       "      <td>0.0</td>\n",
       "      <td>...</td>\n",
       "      <td>-1.370676</td>\n",
       "      <td>-1.947677</td>\n",
       "      <td>-1.111589</td>\n",
       "      <td>-1.479059</td>\n",
       "      <td>-2.084812</td>\n",
       "      <td>-1.798208</td>\n",
       "      <td>-1.764722</td>\n",
       "      <td>-1.688364</td>\n",
       "      <td>-1.663964</td>\n",
       "      <td>-1.766449</td>\n",
       "    </tr>\n",
       "    <tr>\n",
       "      <th>101</th>\n",
       "      <td>0</td>\n",
       "      <td>0.000</td>\n",
       "      <td>5</td>\n",
       "      <td>24.325</td>\n",
       "      <td>1</td>\n",
       "      <td>44.5</td>\n",
       "      <td>0</td>\n",
       "      <td>0.0</td>\n",
       "      <td>0</td>\n",
       "      <td>0.0</td>\n",
       "      <td>...</td>\n",
       "      <td>-1.950774</td>\n",
       "      <td>-1.525548</td>\n",
       "      <td>-1.696322</td>\n",
       "      <td>-1.298742</td>\n",
       "      <td>-1.479975</td>\n",
       "      <td>-1.373886</td>\n",
       "      <td>-1.279308</td>\n",
       "      <td>-1.190606</td>\n",
       "      <td>-1.499854</td>\n",
       "      <td>-1.073959</td>\n",
       "    </tr>\n",
       "    <tr>\n",
       "      <th>157</th>\n",
       "      <td>10</td>\n",
       "      <td>1.250</td>\n",
       "      <td>2</td>\n",
       "      <td>9.730</td>\n",
       "      <td>0</td>\n",
       "      <td>0.0</td>\n",
       "      <td>0</td>\n",
       "      <td>0.0</td>\n",
       "      <td>0</td>\n",
       "      <td>0.0</td>\n",
       "      <td>...</td>\n",
       "      <td>-1.403941</td>\n",
       "      <td>-1.234732</td>\n",
       "      <td>-0.880430</td>\n",
       "      <td>-1.525698</td>\n",
       "      <td>-1.139142</td>\n",
       "      <td>-1.381793</td>\n",
       "      <td>-1.316552</td>\n",
       "      <td>-1.300312</td>\n",
       "      <td>-1.262005</td>\n",
       "      <td>-1.493626</td>\n",
       "    </tr>\n",
       "    <tr>\n",
       "      <th>233</th>\n",
       "      <td>3</td>\n",
       "      <td>0.375</td>\n",
       "      <td>3</td>\n",
       "      <td>14.595</td>\n",
       "      <td>0</td>\n",
       "      <td>0.0</td>\n",
       "      <td>0</td>\n",
       "      <td>0.0</td>\n",
       "      <td>0</td>\n",
       "      <td>0.0</td>\n",
       "      <td>...</td>\n",
       "      <td>-1.383431</td>\n",
       "      <td>-1.809022</td>\n",
       "      <td>-0.908100</td>\n",
       "      <td>-1.500051</td>\n",
       "      <td>-1.983519</td>\n",
       "      <td>-1.566503</td>\n",
       "      <td>-1.576332</td>\n",
       "      <td>-1.400995</td>\n",
       "      <td>-1.547196</td>\n",
       "      <td>-1.596482</td>\n",
       "    </tr>\n",
       "  </tbody>\n",
       "</table>\n",
       "<p>5 rows × 46 columns</p>\n",
       "</div>"
      ],
      "text/plain": [
       "     .25_acres_or_<_num_fire_size  av_ac_brn_0.125  \\\n",
       "39                             25            3.125   \n",
       "145                             2            0.250   \n",
       "101                             0            0.000   \n",
       "157                            10            1.250   \n",
       "233                             3            0.375   \n",
       "\n",
       "     .26-9.99_acres_num_fire_size  av_ac_brn_8.865  10-99_acres_num_fire_size  \\\n",
       "39                             31          150.815                          3   \n",
       "145                             2            9.730                          0   \n",
       "101                             5           24.325                          1   \n",
       "157                             2            9.730                          0   \n",
       "233                             3           14.595                          0   \n",
       "\n",
       "     av_ac_brn_44.5  100-299_acres_num_fire_size  av_ac_brn_99.5  \\\n",
       "39            133.5                            0             0.0   \n",
       "145             0.0                            0             0.0   \n",
       "101            44.5                            0             0.0   \n",
       "157             0.0                            0             0.0   \n",
       "233             0.0                            0             0.0   \n",
       "\n",
       "     300-999_acres_num_fire_size  av_ac_brn_349.5  ...     lm_ts    knn_ts  \\\n",
       "39                             0              0.0  ...  0.060295  0.002583   \n",
       "145                            0              0.0  ... -1.370676 -1.947677   \n",
       "101                            0              0.0  ... -1.950774 -1.525548   \n",
       "157                            0              0.0  ... -1.403941 -1.234732   \n",
       "233                            0              0.0  ... -1.383431 -1.809022   \n",
       "\n",
       "     lasso_ts  ridge_ts    svr_ts     rf_ts     et_ts    bag_ts    ada_ts  \\\n",
       "39   0.072022 -0.104824 -0.140548  0.020564  0.012997 -0.444745 -0.087807   \n",
       "145 -1.111589 -1.479059 -2.084812 -1.798208 -1.764722 -1.688364 -1.663964   \n",
       "101 -1.696322 -1.298742 -1.479975 -1.373886 -1.279308 -1.190606 -1.499854   \n",
       "157 -0.880430 -1.525698 -1.139142 -1.381793 -1.316552 -1.300312 -1.262005   \n",
       "233 -0.908100 -1.500051 -1.983519 -1.566503 -1.576332 -1.400995 -1.547196   \n",
       "\n",
       "        gb_ts  \n",
       "39  -0.172304  \n",
       "145 -1.766449  \n",
       "101 -1.073959  \n",
       "157 -1.493626  \n",
       "233 -1.596482  \n",
       "\n",
       "[5 rows x 46 columns]"
      ]
     },
     "execution_count": 258,
     "metadata": {},
     "output_type": "execute_result"
    }
   ],
   "source": [
    "X_test_meta.head()"
   ]
  },
  {
   "cell_type": "markdown",
   "metadata": {},
   "source": [
    "### 2.3.4. Run the gridg search on these new meta-training set and meta-testing set"
   ]
  },
  {
   "cell_type": "markdown",
   "metadata": {},
   "source": [
    "## Linear Regression "
   ]
  },
  {
   "cell_type": "code",
   "execution_count": 267,
   "metadata": {},
   "outputs": [
    {
     "name": "stdout",
     "output_type": "stream",
     "text": [
      "Fitting 3 folds for each of 8 candidates, totalling 24 fits\n"
     ]
    },
    {
     "name": "stderr",
     "output_type": "stream",
     "text": [
      "[Parallel(n_jobs=4)]: Using backend LokyBackend with 4 concurrent workers.\n"
     ]
    },
    {
     "name": "stdout",
     "output_type": "stream",
     "text": [
      "\n",
      "\n",
      "best paramteres: {'k_best__k': 'all', 'power_t__standardize': False, 'var_thresh__threshold': 0.3}\n",
      "\n",
      "\n"
     ]
    },
    {
     "name": "stderr",
     "output_type": "stream",
     "text": [
      "[Parallel(n_jobs=4)]: Done  24 out of  24 | elapsed:    0.9s finished\n"
     ]
    },
    {
     "data": {
      "text/html": [
       "<div>\n",
       "<style scoped>\n",
       "    .dataframe tbody tr th:only-of-type {\n",
       "        vertical-align: middle;\n",
       "    }\n",
       "\n",
       "    .dataframe tbody tr th {\n",
       "        vertical-align: top;\n",
       "    }\n",
       "\n",
       "    .dataframe thead th {\n",
       "        text-align: right;\n",
       "    }\n",
       "</style>\n",
       "<table border=\"1\" class=\"dataframe\">\n",
       "  <thead>\n",
       "    <tr style=\"text-align: right;\">\n",
       "      <th></th>\n",
       "      <th>metric</th>\n",
       "      <th>value</th>\n",
       "    </tr>\n",
       "  </thead>\n",
       "  <tbody>\n",
       "    <tr>\n",
       "      <th>0</th>\n",
       "      <td>cv_score</td>\n",
       "      <td>0.793072</td>\n",
       "    </tr>\n",
       "    <tr>\n",
       "      <th>1</th>\n",
       "      <td>train_score</td>\n",
       "      <td>0.920236</td>\n",
       "    </tr>\n",
       "    <tr>\n",
       "      <th>2</th>\n",
       "      <td>test_score</td>\n",
       "      <td>0.482415</td>\n",
       "    </tr>\n",
       "  </tbody>\n",
       "</table>\n",
       "</div>"
      ],
      "text/plain": [
       "        metric     value\n",
       "0     cv_score  0.793072\n",
       "1  train_score  0.920236\n",
       "2   test_score  0.482415"
      ]
     },
     "execution_count": 267,
     "metadata": {},
     "output_type": "execute_result"
    }
   ],
   "source": [
    "pipe = Pipeline([\n",
    "    ('var_thresh', VarianceThreshold()),\n",
    "    ('k_best', SelectKBest()),\n",
    "    ('power_t', PowerTransformer()),\n",
    "    #('ss', StandardScaler()),\n",
    "    ('lm', LinearRegression())\n",
    "])\n",
    "\n",
    "params = {\n",
    "    'var_thresh__threshold': [0, 0.1, 0.3, 0.5],\n",
    "    'power_t__standardize': [True, False],\n",
    "    'k_best__k':['all'],\n",
    "\n",
    "}\n",
    "\n",
    "df, y_pred_tr_meta_lm, y_pred_ts_meta_lm = pipe_gs(X_train_meta, X_test_meta, y_train_pt, y_test_pt, pipe, params)\n",
    "df"
   ]
  },
  {
   "cell_type": "markdown",
   "metadata": {},
   "source": [
    "## Lasso"
   ]
  },
  {
   "cell_type": "code",
   "execution_count": 278,
   "metadata": {},
   "outputs": [
    {
     "name": "stdout",
     "output_type": "stream",
     "text": [
      "Fitting 3 folds for each of 64 candidates, totalling 192 fits\n"
     ]
    },
    {
     "name": "stderr",
     "output_type": "stream",
     "text": [
      "[Parallel(n_jobs=4)]: Using backend LokyBackend with 4 concurrent workers.\n",
      "[Parallel(n_jobs=4)]: Done  42 tasks      | elapsed:    3.9s\n",
      "[Parallel(n_jobs=4)]: Done 192 out of 192 | elapsed:   12.1s finished\n"
     ]
    },
    {
     "name": "stdout",
     "output_type": "stream",
     "text": [
      "\n",
      "\n",
      "best paramteres: {'k_best__k': 9, 'lasso__fit_intercept': True, 'lasso__n_alphas': 30, 'power_t__standardize': False, 'var_thresh__threshold': 0.3}\n",
      "\n",
      "\n"
     ]
    },
    {
     "data": {
      "text/html": [
       "<div>\n",
       "<style scoped>\n",
       "    .dataframe tbody tr th:only-of-type {\n",
       "        vertical-align: middle;\n",
       "    }\n",
       "\n",
       "    .dataframe tbody tr th {\n",
       "        vertical-align: top;\n",
       "    }\n",
       "\n",
       "    .dataframe thead th {\n",
       "        text-align: right;\n",
       "    }\n",
       "</style>\n",
       "<table border=\"1\" class=\"dataframe\">\n",
       "  <thead>\n",
       "    <tr style=\"text-align: right;\">\n",
       "      <th></th>\n",
       "      <th>metric</th>\n",
       "      <th>value</th>\n",
       "    </tr>\n",
       "  </thead>\n",
       "  <tbody>\n",
       "    <tr>\n",
       "      <th>0</th>\n",
       "      <td>cv_score</td>\n",
       "      <td>0.819799</td>\n",
       "    </tr>\n",
       "    <tr>\n",
       "      <th>1</th>\n",
       "      <td>train_score</td>\n",
       "      <td>0.795834</td>\n",
       "    </tr>\n",
       "    <tr>\n",
       "      <th>2</th>\n",
       "      <td>test_score</td>\n",
       "      <td>0.587288</td>\n",
       "    </tr>\n",
       "  </tbody>\n",
       "</table>\n",
       "</div>"
      ],
      "text/plain": [
       "        metric     value\n",
       "0     cv_score  0.819799\n",
       "1  train_score  0.795834\n",
       "2   test_score  0.587288"
      ]
     },
     "execution_count": 278,
     "metadata": {},
     "output_type": "execute_result"
    }
   ],
   "source": [
    "pipe = Pipeline([\n",
    "    ('var_thresh', VarianceThreshold()),\n",
    "    ('power_t', PowerTransformer()),\n",
    "    ('k_best', SelectKBest()),\n",
    "    ('ss', StandardScaler()),\n",
    "    ('lasso', LassoCV(n_jobs = -1))\n",
    "])\n",
    "\n",
    "params = {\n",
    "    'var_thresh__threshold': [0, 0.1, 0.3, 0.5],\n",
    "    'power_t__standardize': [True, False],\n",
    "    'k_best__k':[9],\n",
    "    'lasso__fit_intercept':[False, True],\n",
    "    'lasso__n_alphas': [1, 5, 10, 30],\n",
    "    #'lasso__alpha': np.logspace(-3, 3, 7)\n",
    "}\n",
    "    \n",
    "\n",
    "df, y_pred_tr_meta_lasso, y_pred_ts_meta_lasso = pipe_gs(X_train_meta, X_test_meta, y_train_pt, y_test_pt, pipe, params)\n",
    "df"
   ]
  },
  {
   "cell_type": "markdown",
   "metadata": {},
   "source": [
    "## Ridge"
   ]
  },
  {
   "cell_type": "code",
   "execution_count": 273,
   "metadata": {},
   "outputs": [
    {
     "name": "stdout",
     "output_type": "stream",
     "text": [
      "Fitting 3 folds for each of 16 candidates, totalling 48 fits\n"
     ]
    },
    {
     "name": "stderr",
     "output_type": "stream",
     "text": [
      "[Parallel(n_jobs=4)]: Using backend LokyBackend with 4 concurrent workers.\n"
     ]
    },
    {
     "name": "stdout",
     "output_type": "stream",
     "text": [
      "\n",
      "\n",
      "best paramteres: {'k_best__k': 14, 'power_t__standardize': False, 'ridge__fit_intercept': True, 'var_thresh__threshold': 0}\n",
      "\n",
      "\n"
     ]
    },
    {
     "name": "stderr",
     "output_type": "stream",
     "text": [
      "[Parallel(n_jobs=4)]: Done  48 out of  48 | elapsed:    0.7s finished\n"
     ]
    },
    {
     "data": {
      "text/html": [
       "<div>\n",
       "<style scoped>\n",
       "    .dataframe tbody tr th:only-of-type {\n",
       "        vertical-align: middle;\n",
       "    }\n",
       "\n",
       "    .dataframe tbody tr th {\n",
       "        vertical-align: top;\n",
       "    }\n",
       "\n",
       "    .dataframe thead th {\n",
       "        text-align: right;\n",
       "    }\n",
       "</style>\n",
       "<table border=\"1\" class=\"dataframe\">\n",
       "  <thead>\n",
       "    <tr style=\"text-align: right;\">\n",
       "      <th></th>\n",
       "      <th>metric</th>\n",
       "      <th>value</th>\n",
       "    </tr>\n",
       "  </thead>\n",
       "  <tbody>\n",
       "    <tr>\n",
       "      <th>0</th>\n",
       "      <td>cv_score</td>\n",
       "      <td>0.789672</td>\n",
       "    </tr>\n",
       "    <tr>\n",
       "      <th>1</th>\n",
       "      <td>train_score</td>\n",
       "      <td>0.789115</td>\n",
       "    </tr>\n",
       "    <tr>\n",
       "      <th>2</th>\n",
       "      <td>test_score</td>\n",
       "      <td>0.505321</td>\n",
       "    </tr>\n",
       "  </tbody>\n",
       "</table>\n",
       "</div>"
      ],
      "text/plain": [
       "        metric     value\n",
       "0     cv_score  0.789672\n",
       "1  train_score  0.789115\n",
       "2   test_score  0.505321"
      ]
     },
     "execution_count": 273,
     "metadata": {},
     "output_type": "execute_result"
    }
   ],
   "source": [
    "pipe = Pipeline([\n",
    "    ('var_thresh', VarianceThreshold()),\n",
    "    ('k_best', SelectKBest()),\n",
    "    ('power_t', PowerTransformer()),\n",
    "    #('ss', StandardScaler()),\n",
    "    ('ridge', RidgeCV(alphas = (0.05, 0.1, 1.0, 10.0)))\n",
    "])\n",
    "\n",
    "params = {\n",
    "    'var_thresh__threshold': [0, 0.1, 0.3, 0.5],\n",
    "    'power_t__standardize': [True, False],\n",
    "    'k_best__k':[14],\n",
    "    'ridge__fit_intercept':[True, False]\n",
    "}\n",
    "\n",
    "df, y_pred_tr_meta_ridge, y_pred_ts_meta_ridge = pipe_gs(X_train_meta, X_test_meta, y_train_pt, y_test_pt, pipe, params)\n",
    "df"
   ]
  },
  {
   "cell_type": "markdown",
   "metadata": {},
   "source": [
    "## KNN"
   ]
  },
  {
   "cell_type": "code",
   "execution_count": 268,
   "metadata": {},
   "outputs": [
    {
     "name": "stderr",
     "output_type": "stream",
     "text": [
      "[Parallel(n_jobs=4)]: Using backend LokyBackend with 4 concurrent workers.\n"
     ]
    },
    {
     "name": "stdout",
     "output_type": "stream",
     "text": [
      "Fitting 3 folds for each of 24 candidates, totalling 72 fits\n"
     ]
    },
    {
     "name": "stderr",
     "output_type": "stream",
     "text": [
      "[Parallel(n_jobs=4)]: Done  42 tasks      | elapsed:    2.5s\n",
      "[Parallel(n_jobs=4)]: Done  72 out of  72 | elapsed:    4.1s finished\n"
     ]
    },
    {
     "name": "stdout",
     "output_type": "stream",
     "text": [
      "\n",
      "\n",
      "best paramteres: {'k_best__k': 'all', 'knn__n_neighbors': 7, 'knn__weights': 'distance', 'var_thresh__threshold': 0.3}\n",
      "\n",
      "\n"
     ]
    },
    {
     "data": {
      "text/html": [
       "<div>\n",
       "<style scoped>\n",
       "    .dataframe tbody tr th:only-of-type {\n",
       "        vertical-align: middle;\n",
       "    }\n",
       "\n",
       "    .dataframe tbody tr th {\n",
       "        vertical-align: top;\n",
       "    }\n",
       "\n",
       "    .dataframe thead th {\n",
       "        text-align: right;\n",
       "    }\n",
       "</style>\n",
       "<table border=\"1\" class=\"dataframe\">\n",
       "  <thead>\n",
       "    <tr style=\"text-align: right;\">\n",
       "      <th></th>\n",
       "      <th>metric</th>\n",
       "      <th>value</th>\n",
       "    </tr>\n",
       "  </thead>\n",
       "  <tbody>\n",
       "    <tr>\n",
       "      <th>0</th>\n",
       "      <td>cv_score</td>\n",
       "      <td>0.616721</td>\n",
       "    </tr>\n",
       "    <tr>\n",
       "      <th>1</th>\n",
       "      <td>train_score</td>\n",
       "      <td>1.000000</td>\n",
       "    </tr>\n",
       "    <tr>\n",
       "      <th>2</th>\n",
       "      <td>test_score</td>\n",
       "      <td>0.513341</td>\n",
       "    </tr>\n",
       "  </tbody>\n",
       "</table>\n",
       "</div>"
      ],
      "text/plain": [
       "        metric     value\n",
       "0     cv_score  0.616721\n",
       "1  train_score  1.000000\n",
       "2   test_score  0.513341"
      ]
     },
     "execution_count": 268,
     "metadata": {},
     "output_type": "execute_result"
    }
   ],
   "source": [
    "pipe = Pipeline([\n",
    "    ('var_thresh', VarianceThreshold()),\n",
    "    ('k_best', SelectKBest()),\n",
    "    #('power_t', PowerTransformer()),\n",
    "    ('ss', StandardScaler()),\n",
    "    ('knn', KNeighborsRegressor(n_jobs = -1))\n",
    "])\n",
    "\n",
    "params = {\n",
    "    'var_thresh__threshold': [0, 0.1, 0.3, 0.5],\n",
    "    #'power_t__standardize': [True, False],\n",
    "    'k_best__k':['all'],\n",
    "    'knn__n_neighbors':[5,7,10],\n",
    "    'knn__weights':['uniform', 'distance']\n",
    "    \n",
    "}\n",
    "\n",
    "df, y_pred_tr_meta_knn, y_pred_ts_meta_knn = pipe_gs(X_train_meta, X_test_meta, y_train_pt, y_test_pt, pipe, params)\n",
    "df"
   ]
  },
  {
   "cell_type": "markdown",
   "metadata": {},
   "source": [
    "## SVR"
   ]
  },
  {
   "cell_type": "code",
   "execution_count": 269,
   "metadata": {},
   "outputs": [
    {
     "name": "stdout",
     "output_type": "stream",
     "text": [
      "Fitting 3 folds for each of 24 candidates, totalling 72 fits\n"
     ]
    },
    {
     "name": "stderr",
     "output_type": "stream",
     "text": [
      "[Parallel(n_jobs=4)]: Using backend LokyBackend with 4 concurrent workers.\n"
     ]
    },
    {
     "name": "stdout",
     "output_type": "stream",
     "text": [
      "\n",
      "\n",
      "best paramteres: {'k_best__k': 'all', 'power_t__standardize': False, 'svr__degree': 3, 'var_thresh__threshold': 0.5}\n",
      "\n",
      "\n"
     ]
    },
    {
     "name": "stderr",
     "output_type": "stream",
     "text": [
      "[Parallel(n_jobs=4)]: Done  72 out of  72 | elapsed:    2.8s finished\n"
     ]
    },
    {
     "data": {
      "text/html": [
       "<div>\n",
       "<style scoped>\n",
       "    .dataframe tbody tr th:only-of-type {\n",
       "        vertical-align: middle;\n",
       "    }\n",
       "\n",
       "    .dataframe tbody tr th {\n",
       "        vertical-align: top;\n",
       "    }\n",
       "\n",
       "    .dataframe thead th {\n",
       "        text-align: right;\n",
       "    }\n",
       "</style>\n",
       "<table border=\"1\" class=\"dataframe\">\n",
       "  <thead>\n",
       "    <tr style=\"text-align: right;\">\n",
       "      <th></th>\n",
       "      <th>metric</th>\n",
       "      <th>value</th>\n",
       "    </tr>\n",
       "  </thead>\n",
       "  <tbody>\n",
       "    <tr>\n",
       "      <th>0</th>\n",
       "      <td>cv_score</td>\n",
       "      <td>0.626450</td>\n",
       "    </tr>\n",
       "    <tr>\n",
       "      <th>1</th>\n",
       "      <td>train_score</td>\n",
       "      <td>0.872934</td>\n",
       "    </tr>\n",
       "    <tr>\n",
       "      <th>2</th>\n",
       "      <td>test_score</td>\n",
       "      <td>0.553943</td>\n",
       "    </tr>\n",
       "  </tbody>\n",
       "</table>\n",
       "</div>"
      ],
      "text/plain": [
       "        metric     value\n",
       "0     cv_score  0.626450\n",
       "1  train_score  0.872934\n",
       "2   test_score  0.553943"
      ]
     },
     "execution_count": 269,
     "metadata": {},
     "output_type": "execute_result"
    }
   ],
   "source": [
    "pipe = Pipeline([\n",
    "    ('var_thresh', VarianceThreshold()),\n",
    "    ('k_best', SelectKBest()),\n",
    "    ('power_t', PowerTransformer()),\n",
    "    ('ss', StandardScaler()),\n",
    "    ('svr', SVR())\n",
    "])\n",
    "\n",
    "params = {\n",
    "    'var_thresh__threshold': [0, 0.1, 0.3, 0.5],\n",
    "    'power_t__standardize': [True, False],\n",
    "    'k_best__k':['all'],\n",
    "    'svr__degree':[3,4,5]\n",
    "}\n",
    "\n",
    "df, y_pred_tr_meta_svr, y_pred_ts_meta_svr = pipe_gs(X_train_meta, X_test_meta, y_train_pt, y_test_pt, pipe, params)\n",
    "df"
   ]
  },
  {
   "cell_type": "markdown",
   "metadata": {},
   "source": [
    "## Random Forest"
   ]
  },
  {
   "cell_type": "code",
   "execution_count": 270,
   "metadata": {},
   "outputs": [
    {
     "name": "stderr",
     "output_type": "stream",
     "text": [
      "[Parallel(n_jobs=4)]: Using backend LokyBackend with 4 concurrent workers.\n"
     ]
    },
    {
     "name": "stdout",
     "output_type": "stream",
     "text": [
      "Fitting 3 folds for each of 180 candidates, totalling 540 fits\n"
     ]
    },
    {
     "name": "stderr",
     "output_type": "stream",
     "text": [
      "[Parallel(n_jobs=4)]: Done  42 tasks      | elapsed:    5.4s\n",
      "[Parallel(n_jobs=4)]: Done 192 tasks      | elapsed:   22.3s\n",
      "[Parallel(n_jobs=4)]: Done 442 tasks      | elapsed:   51.2s\n",
      "[Parallel(n_jobs=4)]: Done 540 out of 540 | elapsed:  1.0min finished\n",
      "[Parallel(n_jobs=-1)]: Using backend ThreadingBackend with 8 concurrent workers.\n",
      "[Parallel(n_jobs=-1)]: Done  34 tasks      | elapsed:    0.0s\n",
      "[Parallel(n_jobs=-1)]: Done  50 out of  50 | elapsed:    0.0s finished\n"
     ]
    },
    {
     "name": "stdout",
     "output_type": "stream",
     "text": [
      "\n",
      "\n",
      "best paramteres: {'k_best__k': 'all', 'power_t__standardize': False, 'rf__max_depth': 10, 'rf__max_features': 'auto', 'rf__min_samples_split': 2, 'rf__n_estimators': 50, 'var_thresh__threshold': 0.3}\n",
      "\n",
      "\n"
     ]
    },
    {
     "name": "stderr",
     "output_type": "stream",
     "text": [
      "[Parallel(n_jobs=8)]: Using backend ThreadingBackend with 8 concurrent workers.\n",
      "[Parallel(n_jobs=8)]: Done  34 tasks      | elapsed:    0.0s\n",
      "[Parallel(n_jobs=8)]: Done  50 out of  50 | elapsed:    0.0s finished\n",
      "[Parallel(n_jobs=8)]: Using backend ThreadingBackend with 8 concurrent workers.\n",
      "[Parallel(n_jobs=8)]: Done  34 tasks      | elapsed:    0.0s\n",
      "[Parallel(n_jobs=8)]: Done  50 out of  50 | elapsed:    0.0s finished\n",
      "[Parallel(n_jobs=8)]: Using backend ThreadingBackend with 8 concurrent workers.\n",
      "[Parallel(n_jobs=8)]: Done  34 tasks      | elapsed:    0.0s\n",
      "[Parallel(n_jobs=8)]: Done  50 out of  50 | elapsed:    0.0s finished\n",
      "[Parallel(n_jobs=8)]: Using backend ThreadingBackend with 8 concurrent workers.\n",
      "[Parallel(n_jobs=8)]: Done  34 tasks      | elapsed:    0.0s\n",
      "[Parallel(n_jobs=8)]: Done  50 out of  50 | elapsed:    0.0s finished\n"
     ]
    },
    {
     "data": {
      "text/html": [
       "<div>\n",
       "<style scoped>\n",
       "    .dataframe tbody tr th:only-of-type {\n",
       "        vertical-align: middle;\n",
       "    }\n",
       "\n",
       "    .dataframe tbody tr th {\n",
       "        vertical-align: top;\n",
       "    }\n",
       "\n",
       "    .dataframe thead th {\n",
       "        text-align: right;\n",
       "    }\n",
       "</style>\n",
       "<table border=\"1\" class=\"dataframe\">\n",
       "  <thead>\n",
       "    <tr style=\"text-align: right;\">\n",
       "      <th></th>\n",
       "      <th>metric</th>\n",
       "      <th>value</th>\n",
       "    </tr>\n",
       "  </thead>\n",
       "  <tbody>\n",
       "    <tr>\n",
       "      <th>0</th>\n",
       "      <td>cv_score</td>\n",
       "      <td>0.815118</td>\n",
       "    </tr>\n",
       "    <tr>\n",
       "      <th>1</th>\n",
       "      <td>train_score</td>\n",
       "      <td>0.976022</td>\n",
       "    </tr>\n",
       "    <tr>\n",
       "      <th>2</th>\n",
       "      <td>test_score</td>\n",
       "      <td>0.519692</td>\n",
       "    </tr>\n",
       "  </tbody>\n",
       "</table>\n",
       "</div>"
      ],
      "text/plain": [
       "        metric     value\n",
       "0     cv_score  0.815118\n",
       "1  train_score  0.976022\n",
       "2   test_score  0.519692"
      ]
     },
     "execution_count": 270,
     "metadata": {},
     "output_type": "execute_result"
    }
   ],
   "source": [
    "pipe = Pipeline([\n",
    "    ('var_thresh', VarianceThreshold()),\n",
    "    ('k_best', SelectKBest()),\n",
    "    ('power_t', PowerTransformer()),\n",
    "    ('ss', StandardScaler()),\n",
    "    ('rf', RandomForestRegressor(n_jobs = -1, verbose = 1))\n",
    "])\n",
    "\n",
    "params = {\n",
    "    'var_thresh__threshold': [0.1, 0.3, 0.5],\n",
    "    'power_t__standardize': [True, False],\n",
    "    'k_best__k':['all'],\n",
    "    'rf__n_estimators':[10,20,30,50,100],\n",
    "    'rf__max_depth':[None,  4, 10],\n",
    "    'rf__min_samples_split':[2,4],\n",
    "    'rf__max_features':['auto']\n",
    "    \n",
    "}\n",
    "\n",
    "df, y_pred_tr_meta_rf, y_pred_ts_meta_rf = pipe_gs(X_train_meta, X_test_meta, y_train_pt, y_test_pt, pipe, params)\n",
    "df"
   ]
  },
  {
   "cell_type": "markdown",
   "metadata": {},
   "source": [
    "## AdaBoost"
   ]
  },
  {
   "cell_type": "code",
   "execution_count": 281,
   "metadata": {},
   "outputs": [
    {
     "name": "stdout",
     "output_type": "stream",
     "text": [
      "Fitting 3 folds for each of 72 candidates, totalling 216 fits\n"
     ]
    },
    {
     "name": "stderr",
     "output_type": "stream",
     "text": [
      "[Parallel(n_jobs=4)]: Using backend LokyBackend with 4 concurrent workers.\n",
      "[Parallel(n_jobs=4)]: Done  76 tasks      | elapsed:    3.1s\n"
     ]
    },
    {
     "name": "stdout",
     "output_type": "stream",
     "text": [
      "\n",
      "\n",
      "best paramteres: {'ada__learning_rate': 0.5, 'ada__n_estimators': 15, 'k_best__k': 'all', 'power_t__standardize': True, 'var_thresh__threshold': 0.3}\n",
      "\n",
      "\n"
     ]
    },
    {
     "name": "stderr",
     "output_type": "stream",
     "text": [
      "[Parallel(n_jobs=4)]: Done 216 out of 216 | elapsed:    8.4s finished\n"
     ]
    },
    {
     "data": {
      "text/html": [
       "<div>\n",
       "<style scoped>\n",
       "    .dataframe tbody tr th:only-of-type {\n",
       "        vertical-align: middle;\n",
       "    }\n",
       "\n",
       "    .dataframe tbody tr th {\n",
       "        vertical-align: top;\n",
       "    }\n",
       "\n",
       "    .dataframe thead th {\n",
       "        text-align: right;\n",
       "    }\n",
       "</style>\n",
       "<table border=\"1\" class=\"dataframe\">\n",
       "  <thead>\n",
       "    <tr style=\"text-align: right;\">\n",
       "      <th></th>\n",
       "      <th>metric</th>\n",
       "      <th>value</th>\n",
       "    </tr>\n",
       "  </thead>\n",
       "  <tbody>\n",
       "    <tr>\n",
       "      <th>0</th>\n",
       "      <td>cv_score</td>\n",
       "      <td>0.808923</td>\n",
       "    </tr>\n",
       "    <tr>\n",
       "      <th>1</th>\n",
       "      <td>train_score</td>\n",
       "      <td>0.915366</td>\n",
       "    </tr>\n",
       "    <tr>\n",
       "      <th>2</th>\n",
       "      <td>test_score</td>\n",
       "      <td>0.535776</td>\n",
       "    </tr>\n",
       "  </tbody>\n",
       "</table>\n",
       "</div>"
      ],
      "text/plain": [
       "        metric     value\n",
       "0     cv_score  0.808923\n",
       "1  train_score  0.915366\n",
       "2   test_score  0.535776"
      ]
     },
     "execution_count": 281,
     "metadata": {},
     "output_type": "execute_result"
    }
   ],
   "source": [
    "pipe = Pipeline([\n",
    "    ('var_thresh', VarianceThreshold()),\n",
    "    ('k_best', SelectKBest()),\n",
    "    ('power_t', PowerTransformer()),\n",
    "    ('ss', StandardScaler()),\n",
    "    ('ada', AdaBoostRegressor())\n",
    "])\n",
    "\n",
    "params = {\n",
    "    'var_thresh__threshold': [0, 0.1, 0.3, 0.5],\n",
    "    'power_t__standardize': [True, False],\n",
    "    'k_best__k':['all'],\n",
    "    'ada__learning_rate':[0.5, 1, 2],\n",
    "    'ada__n_estimators':[10, 15, 30]\n",
    "    \n",
    "}\n",
    "\n",
    "df, y_pred_tr_meta_ada, y_pred_ts_meta_ada = pipe_gs(X_train_meta, X_test_meta, y_train_pt, y_test_pt, pipe, params)\n",
    "df"
   ]
  },
  {
   "cell_type": "markdown",
   "metadata": {},
   "source": [
    "## Bagging"
   ]
  },
  {
   "cell_type": "code",
   "execution_count": 282,
   "metadata": {},
   "outputs": [
    {
     "name": "stdout",
     "output_type": "stream",
     "text": [
      "Fitting 3 folds for each of 288 candidates, totalling 864 fits\n"
     ]
    },
    {
     "name": "stderr",
     "output_type": "stream",
     "text": [
      "[Parallel(n_jobs=4)]: Using backend LokyBackend with 4 concurrent workers.\n",
      "[Parallel(n_jobs=4)]: Done  76 tasks      | elapsed:    3.3s\n",
      "[Parallel(n_jobs=4)]: Done 376 tasks      | elapsed:   15.6s\n",
      "[Parallel(n_jobs=4)]: Done 864 out of 864 | elapsed:   37.3s finished\n"
     ]
    },
    {
     "name": "stdout",
     "output_type": "stream",
     "text": [
      "\n",
      "\n",
      "best paramteres: {'bag__max_features': 1.0, 'bag__max_samples': 1.0, 'bag__n_estimators': 50, 'k_best__k': 'all', 'power_t__standardize': False, 'var_thresh__threshold': 0}\n",
      "\n",
      "\n"
     ]
    },
    {
     "data": {
      "text/html": [
       "<div>\n",
       "<style scoped>\n",
       "    .dataframe tbody tr th:only-of-type {\n",
       "        vertical-align: middle;\n",
       "    }\n",
       "\n",
       "    .dataframe tbody tr th {\n",
       "        vertical-align: top;\n",
       "    }\n",
       "\n",
       "    .dataframe thead th {\n",
       "        text-align: right;\n",
       "    }\n",
       "</style>\n",
       "<table border=\"1\" class=\"dataframe\">\n",
       "  <thead>\n",
       "    <tr style=\"text-align: right;\">\n",
       "      <th></th>\n",
       "      <th>metric</th>\n",
       "      <th>value</th>\n",
       "    </tr>\n",
       "  </thead>\n",
       "  <tbody>\n",
       "    <tr>\n",
       "      <th>0</th>\n",
       "      <td>cv_score</td>\n",
       "      <td>0.811818</td>\n",
       "    </tr>\n",
       "    <tr>\n",
       "      <th>1</th>\n",
       "      <td>train_score</td>\n",
       "      <td>0.974250</td>\n",
       "    </tr>\n",
       "    <tr>\n",
       "      <th>2</th>\n",
       "      <td>test_score</td>\n",
       "      <td>0.539410</td>\n",
       "    </tr>\n",
       "  </tbody>\n",
       "</table>\n",
       "</div>"
      ],
      "text/plain": [
       "        metric     value\n",
       "0     cv_score  0.811818\n",
       "1  train_score  0.974250\n",
       "2   test_score  0.539410"
      ]
     },
     "execution_count": 282,
     "metadata": {},
     "output_type": "execute_result"
    }
   ],
   "source": [
    "pipe = Pipeline([\n",
    "    ('var_thresh', VarianceThreshold()),\n",
    "    ('k_best', SelectKBest()),\n",
    "    ('power_t', PowerTransformer()),\n",
    "    #('ss', StandardScaler()),\n",
    "    ('bag', BaggingRegressor())\n",
    "])\n",
    "\n",
    "params = {\n",
    "    'var_thresh__threshold': [0, 0.1, 0.3, 0.5],\n",
    "    'power_t__standardize': [True, False],\n",
    "    'k_best__k':['all'],\n",
    "    'bag__n_estimators':[10, 15, 30, 50],\n",
    "    'bag__max_features':[0.5,0.75, 1.],\n",
    "    'bag__max_samples':[0.5, 0.75, 1.]\n",
    "    \n",
    "    \n",
    "}\n",
    "\n",
    "df, y_pred_tr_meta_bag, y_pred_ts_meta_bag = pipe_gs(X_train_meta, X_test_meta, y_train_pt, y_test_pt, pipe, params)\n",
    "df"
   ]
  },
  {
   "cell_type": "markdown",
   "metadata": {},
   "source": [
    "## Extra Trees"
   ]
  },
  {
   "cell_type": "code",
   "execution_count": 283,
   "metadata": {},
   "outputs": [
    {
     "name": "stdout",
     "output_type": "stream",
     "text": [
      "Fitting 3 folds for each of 240 candidates, totalling 720 fits\n"
     ]
    },
    {
     "name": "stderr",
     "output_type": "stream",
     "text": [
      "[Parallel(n_jobs=4)]: Using backend LokyBackend with 4 concurrent workers.\n",
      "[Parallel(n_jobs=4)]: Done  76 tasks      | elapsed:    3.4s\n",
      "[Parallel(n_jobs=4)]: Done 376 tasks      | elapsed:   16.9s\n",
      "[Parallel(n_jobs=4)]: Done 720 out of 720 | elapsed:   32.6s finished\n"
     ]
    },
    {
     "name": "stdout",
     "output_type": "stream",
     "text": [
      "\n",
      "\n",
      "best paramteres: {'et__max_depth': 10, 'et__max_features': 'auto', 'et__min_samples_split': 4, 'et__n_estimators': 100, 'k_best__k': 'all', 'power_t__standardize': False, 'var_thresh__threshold': 0.1}\n",
      "\n",
      "\n"
     ]
    },
    {
     "data": {
      "text/html": [
       "<div>\n",
       "<style scoped>\n",
       "    .dataframe tbody tr th:only-of-type {\n",
       "        vertical-align: middle;\n",
       "    }\n",
       "\n",
       "    .dataframe tbody tr th {\n",
       "        vertical-align: top;\n",
       "    }\n",
       "\n",
       "    .dataframe thead th {\n",
       "        text-align: right;\n",
       "    }\n",
       "</style>\n",
       "<table border=\"1\" class=\"dataframe\">\n",
       "  <thead>\n",
       "    <tr style=\"text-align: right;\">\n",
       "      <th></th>\n",
       "      <th>metric</th>\n",
       "      <th>value</th>\n",
       "    </tr>\n",
       "  </thead>\n",
       "  <tbody>\n",
       "    <tr>\n",
       "      <th>0</th>\n",
       "      <td>cv_score</td>\n",
       "      <td>0.832767</td>\n",
       "    </tr>\n",
       "    <tr>\n",
       "      <th>1</th>\n",
       "      <td>train_score</td>\n",
       "      <td>0.995594</td>\n",
       "    </tr>\n",
       "    <tr>\n",
       "      <th>2</th>\n",
       "      <td>test_score</td>\n",
       "      <td>0.465148</td>\n",
       "    </tr>\n",
       "  </tbody>\n",
       "</table>\n",
       "</div>"
      ],
      "text/plain": [
       "        metric     value\n",
       "0     cv_score  0.832767\n",
       "1  train_score  0.995594\n",
       "2   test_score  0.465148"
      ]
     },
     "execution_count": 283,
     "metadata": {},
     "output_type": "execute_result"
    }
   ],
   "source": [
    "pipe = Pipeline([\n",
    "    ('var_thresh', VarianceThreshold()),\n",
    "    ('k_best', SelectKBest()),\n",
    "    ('power_t', PowerTransformer()),\n",
    "    #('ss', StandardScaler()),\n",
    "    ('et', ExtraTreesRegressor())\n",
    "])\n",
    "\n",
    "params = {\n",
    "    'var_thresh__threshold': [0, 0.1, 0.3, 0.5],\n",
    "    'power_t__standardize': [True, False],\n",
    "    'k_best__k':['all'],\n",
    "    'et__n_estimators':[10,20,30,50,100],\n",
    "    'et__max_depth':[None,  4, 10],\n",
    "    'et__min_samples_split':[2,4],\n",
    "    'et__max_features':['auto']\n",
    "    \n",
    "}\n",
    "\n",
    "df, y_pred_tr_meta_et, y_pred_ts_meta_et = pipe_gs(X_train_meta, X_test_meta, y_train_pt, y_test_pt, pipe, params)\n",
    "df"
   ]
  },
  {
   "cell_type": "markdown",
   "metadata": {},
   "source": [
    "## Gradient Boosting"
   ]
  },
  {
   "cell_type": "code",
   "execution_count": 286,
   "metadata": {},
   "outputs": [
    {
     "name": "stdout",
     "output_type": "stream",
     "text": [
      "Fitting 3 folds for each of 72 candidates, totalling 216 fits\n"
     ]
    },
    {
     "name": "stderr",
     "output_type": "stream",
     "text": [
      "[Parallel(n_jobs=4)]: Using backend LokyBackend with 4 concurrent workers.\n",
      "[Parallel(n_jobs=4)]: Done  76 tasks      | elapsed:    2.8s\n"
     ]
    },
    {
     "name": "stdout",
     "output_type": "stream",
     "text": [
      "\n",
      "\n",
      "best paramteres: {'gb__learning_rate': 0.5, 'gb__n_estimators': 30, 'k_best__k': 'all', 'power_t__standardize': True, 'var_thresh__threshold': 0.5}\n",
      "\n",
      "\n"
     ]
    },
    {
     "name": "stderr",
     "output_type": "stream",
     "text": [
      "[Parallel(n_jobs=4)]: Done 216 out of 216 | elapsed:    7.8s finished\n"
     ]
    },
    {
     "data": {
      "text/html": [
       "<div>\n",
       "<style scoped>\n",
       "    .dataframe tbody tr th:only-of-type {\n",
       "        vertical-align: middle;\n",
       "    }\n",
       "\n",
       "    .dataframe tbody tr th {\n",
       "        vertical-align: top;\n",
       "    }\n",
       "\n",
       "    .dataframe thead th {\n",
       "        text-align: right;\n",
       "    }\n",
       "</style>\n",
       "<table border=\"1\" class=\"dataframe\">\n",
       "  <thead>\n",
       "    <tr style=\"text-align: right;\">\n",
       "      <th></th>\n",
       "      <th>metric</th>\n",
       "      <th>value</th>\n",
       "    </tr>\n",
       "  </thead>\n",
       "  <tbody>\n",
       "    <tr>\n",
       "      <th>0</th>\n",
       "      <td>cv_score</td>\n",
       "      <td>0.819376</td>\n",
       "    </tr>\n",
       "    <tr>\n",
       "      <th>1</th>\n",
       "      <td>train_score</td>\n",
       "      <td>0.997859</td>\n",
       "    </tr>\n",
       "    <tr>\n",
       "      <th>2</th>\n",
       "      <td>test_score</td>\n",
       "      <td>0.453512</td>\n",
       "    </tr>\n",
       "  </tbody>\n",
       "</table>\n",
       "</div>"
      ],
      "text/plain": [
       "        metric     value\n",
       "0     cv_score  0.819376\n",
       "1  train_score  0.997859\n",
       "2   test_score  0.453512"
      ]
     },
     "execution_count": 286,
     "metadata": {},
     "output_type": "execute_result"
    }
   ],
   "source": [
    "pipe = Pipeline([\n",
    "    ('var_thresh', VarianceThreshold()),\n",
    "    ('k_best', SelectKBest()),\n",
    "    ('power_t', PowerTransformer()),\n",
    "    ('ss', StandardScaler()),\n",
    "    ('gb', GradientBoostingRegressor())\n",
    "])\n",
    "\n",
    "params = {\n",
    "    'var_thresh__threshold': [0, 0.1, 0.3, 0.5],\n",
    "    'power_t__standardize': [True, False],\n",
    "    'k_best__k':['all'],\n",
    "    'gb__learning_rate':[0.5, 1, 2],\n",
    "    'gb__n_estimators':[10, 15, 30]\n",
    "    \n",
    "}\n",
    "\n",
    "df, y_pred_tr_meta_gb, y_pred_ts_meta_gb = pipe_gs(X_train_meta, X_test_meta, y_train_pt, y_test_pt, pipe, params)\n",
    "df"
   ]
  },
  {
   "cell_type": "markdown",
   "metadata": {},
   "source": [
    "While on average the test scores of each model have improved as a result of stacking the models, the variance on average has also increase. A more detailed discussion of model evaluation and best modedl selection can be found in notebook **3. Final Model Selection, Conclusion and Recommendations**"
   ]
  }
 ],
 "metadata": {
  "kernelspec": {
   "display_name": "Python 3",
   "language": "python",
   "name": "python3"
  },
  "language_info": {
   "codemirror_mode": {
    "name": "ipython",
    "version": 3
   },
   "file_extension": ".py",
   "mimetype": "text/x-python",
   "name": "python",
   "nbconvert_exporter": "python",
   "pygments_lexer": "ipython3",
   "version": "3.6.5"
  }
 },
 "nbformat": 4,
 "nbformat_minor": 2
}
