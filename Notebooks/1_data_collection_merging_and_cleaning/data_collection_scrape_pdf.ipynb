{
 "cells": [
  {
   "cell_type": "markdown",
   "metadata": {},
   "source": [
    "## Converting data from pdf to csv"
   ]
  },
  {
   "cell_type": "code",
   "execution_count": 1,
   "metadata": {},
   "outputs": [],
   "source": [
    "#!pip install tabula_py"
   ]
  },
  {
   "cell_type": "code",
   "execution_count": 2,
   "metadata": {},
   "outputs": [],
   "source": [
    "import tabula\n",
    "import os"
   ]
  },
  {
   "cell_type": "markdown",
   "metadata": {},
   "source": [
    "The function below was my own function to iteratively turn pdfs into csv's in a given directory. It worked. But I wrote it before I found a super shortcut using **tabula.convert_into_by_batch** below\n",
    "[tabula code source](https://github.com/chezou/tabula-py/blob/master/README.md)\n",
    "<br/>\n",
    "<br/>\n",
    "The data is from 2010 - 2016: [data source](https://www.fire.ca.gov/fire_protection/fire_protection_fire_info_redbooks)"
   ]
  },
  {
   "cell_type": "code",
   "execution_count": 63,
   "metadata": {},
   "outputs": [],
   "source": [
    "# def pdf_to_csv(directory):\n",
    "    \n",
    "#     dictionary = {} # empty dict which will be populated with dataframes \n",
    "#     files = []      # empty list which will contain the filen\n",
    "\n",
    "#     for filename in os.listdir(directory): \n",
    "#         if filename.endswith(\".pdf\"):\n",
    "#             files.append(filename)\n",
    "        \n",
    "#     for i in files:\n",
    "#         df = tabula.read_pdf(directory+'/'+i, output_format = 'csv', pages = 'all')\n",
    "#         if (('South' in i) or ('North' in i)):\n",
    "#             region = i[-9:-4]\n",
    "#             df['region'] = region\n",
    "#         else:\n",
    "#             region = 'south_north'\n",
    "#             df['region'] = region\n",
    "#         year = i[0:4]\n",
    "#         df[year] = year\n",
    "#         dictionary[str(region+'_'+year)] = df   \n",
    "    \n",
    "#     for i in dictionary.keys():\n",
    "#         dictionary[i].to_csv(directory+'/'+i+'.csv')\n",
    "    \n",
    "#     return dictionary"
   ]
  },
  {
   "cell_type": "code",
   "execution_count": 74,
   "metadata": {},
   "outputs": [],
   "source": [
    "master_dir = [\n",
    " 'num_acres_burned_cause_unit_county',\n",
    " 'dollar_damage_size_unit_county',\n",
    " 'dollar_damage_cause_unit_county',\n",
    " 'num_fires_size_unit_county',\n",
    " 'num_acres_burned_veg_unit_county',\n",
    " 'num_fires_cause_unit_county'\n",
    "]\n",
    "\n",
    "for directory in master_dir:\n",
    "    tabula.convert_into_by_batch(directory, output_format='csv', pages= 'all')\n"
   ]
  }
 ],
 "metadata": {
  "kernelspec": {
   "display_name": "Python 3",
   "language": "python",
   "name": "python3"
  },
  "language_info": {
   "codemirror_mode": {
    "name": "ipython",
    "version": 3
   },
   "file_extension": ".py",
   "mimetype": "text/x-python",
   "name": "python",
   "nbconvert_exporter": "python",
   "pygments_lexer": "ipython3",
   "version": "3.6.5"
  }
 },
 "nbformat": 4,
 "nbformat_minor": 2
}
