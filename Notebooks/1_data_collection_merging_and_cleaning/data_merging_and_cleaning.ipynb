{
 "cells": [
  {
   "cell_type": "markdown",
   "metadata": {},
   "source": [
    "# Disclaimer: \n",
    "\n",
    "This notebook contains some code that was used to merge a variety of data files together to combine them into one large dataset to be used in the modeling process. Most of the data collection was a manual human labor effor, while some of the cleaning was also a manual process. Our team has used a combination of code in python and excel to merge and clean the data. Therefore the code here is not an ordered or a complete walkthrough that records every transformation or data manipulation step. This notebook however can be used as a reference notebook for some of the merging and cleaning functions that were used. Also the data files names may have been changed and the data files may have been moved since this notebook was created. All of raw data files are now contained in the **clean_data_combined** folder of this project's home repository. "
   ]
  },
  {
   "cell_type": "markdown",
   "metadata": {},
   "source": [
    "# 1. Data Merging "
   ]
  },
  {
   "cell_type": "code",
   "execution_count": 90,
   "metadata": {},
   "outputs": [],
   "source": [
    "# import the pacakges that will be used in this notebook \n",
    "import pandas as pd\n",
    "import numpy as np"
   ]
  },
  {
   "cell_type": "code",
   "execution_count": 164,
   "metadata": {},
   "outputs": [],
   "source": [
    "df = pd.read_csv('../CSVs/v2_cleaned_2010_to_2016_wildfire_statistics.csv')\n",
    "df2 = pd.read_csv('./median_sq_ft_price.csv')\n",
    "df3 = pd.read_csv('./pop_area.csv')\n",
    "df4 = pd.read_csv('./per_capita_incomes.csv')\n",
    "df5 = pd.read_csv('./gdp.csv')\n",
    "df6 = pd.read_csv('./climate_data.csv')\n",
    "df7 = pd.read_csv('./forest_camps.csv')\n"
   ]
  },
  {
   "cell_type": "code",
   "execution_count": 166,
   "metadata": {},
   "outputs": [],
   "source": [
    "new_area = [i.rstrip(' sq mi') for i in df3['area']]\n",
    "new_area = [i.rstrip('\\xa0sq\\xa0') for i in new_area]\n",
    "df3.to_csv('pop_area.csv')\n",
    "\n",
    "df3['area'] = pd.Series(new_area)\n",
    "df3.head()"
   ]
  },
  {
   "cell_type": "markdown",
   "metadata": {},
   "source": [
    "# 2. Data Cleaning"
   ]
  },
  {
   "cell_type": "code",
   "execution_count": 145,
   "metadata": {},
   "outputs": [],
   "source": [
    "# This function cleans up columns with string datatypes and converts these columns into numeric datatypes \n",
    "\n",
    "def clean_data(df):\n",
    "    \n",
    "    # create a list of columns for which data types are strings\n",
    "    string_columns = [i for i in df.columns if df[i].dtypes == 'O']\n",
    "    \n",
    " \n",
    "    for i in string_columns:\n",
    "        # remove ',' if present\n",
    "        df[i] = df[i].apply(lambda x: x.replace(',', ''))\n",
    "        # remove '$' if present\n",
    "        df[i] = df[i].apply(lambda x: x.replace('$', ''))\n",
    "        # type-cast all the string columns as floats\n",
    "        df[i] = df[i].astype('float')\n",
    "    \n",
    "    return df "
   ]
  },
  {
   "cell_type": "code",
   "execution_count": 146,
   "metadata": {},
   "outputs": [
    {
     "name": "stdout",
     "output_type": "stream",
     "text": [
      "<class 'pandas.core.frame.DataFrame'>\n",
      "RangeIndex: 58 entries, 0 to 57\n",
      "Data columns (total 3 columns):\n",
      "county    58 non-null object\n",
      "pop       58 non-null int64\n",
      "area      58 non-null float64\n",
      "dtypes: float64(1), int64(1), object(1)\n",
      "memory usage: 1.4+ KB\n"
     ]
    },
    {
     "name": "stderr",
     "output_type": "stream",
     "text": [
      "/anaconda3/lib/python3.7/site-packages/ipykernel_launcher.py:11: SettingWithCopyWarning: \n",
      "A value is trying to be set on a copy of a slice from a DataFrame.\n",
      "Try using .loc[row_indexer,col_indexer] = value instead\n",
      "\n",
      "See the caveats in the documentation: http://pandas.pydata.org/pandas-docs/stable/indexing.html#indexing-view-versus-copy\n",
      "  # This is added back by InteractiveShellApp.init_path()\n",
      "/anaconda3/lib/python3.7/site-packages/ipykernel_launcher.py:13: SettingWithCopyWarning: \n",
      "A value is trying to be set on a copy of a slice from a DataFrame.\n",
      "Try using .loc[row_indexer,col_indexer] = value instead\n",
      "\n",
      "See the caveats in the documentation: http://pandas.pydata.org/pandas-docs/stable/indexing.html#indexing-view-versus-copy\n",
      "  del sys.path[0]\n",
      "/anaconda3/lib/python3.7/site-packages/ipykernel_launcher.py:15: SettingWithCopyWarning: \n",
      "A value is trying to be set on a copy of a slice from a DataFrame.\n",
      "Try using .loc[row_indexer,col_indexer] = value instead\n",
      "\n",
      "See the caveats in the documentation: http://pandas.pydata.org/pandas-docs/stable/indexing.html#indexing-view-versus-copy\n",
      "  from ipykernel import kernelapp as app\n"
     ]
    }
   ],
   "source": [
    "df3[['pop', 'area']] = clean_data(df3[['pop', 'area']])\n",
    "df3.info()"
   ]
  },
  {
   "cell_type": "code",
   "execution_count": null,
   "metadata": {},
   "outputs": [],
   "source": [
    "# lower_case all county names\n",
    "\n",
    "county_year = []\n",
    "for i in df['county_year']:\n",
    "    county_year.append(i.lower())"
   ]
  },
  {
   "cell_type": "markdown",
   "metadata": {},
   "source": [
    "## Engineer the Target Variable"
   ]
  },
  {
   "cell_type": "code",
   "execution_count": 3,
   "metadata": {},
   "outputs": [],
   "source": [
    "# engineer the target variable\n",
    " df['target']=df['arson_dollar_cause']+df['campfire_dollar_cause']+df['debris_burning_dollar_cause']+df['equip_use_dollar_cause']+df['ltng_dollar_cause']+df['misc_dollar_cause']+df['p-w-f_dollar_cause']+df['powerline_dollar_cause']+df['railroad_dollar_cause']+df['smoking_dollar_cause']+df['undet_dollar_cause']+df['vehicle_dollar_cause']\n",
    "\n",
    "# get rid of severe outliers and observations that are incorrect data with error \n",
    "df.drop(df[df.target == 0].index, axis = 0, inplace = True)\n",
    "df.drop(df[df.target ==1].index, axis = 0, inplace = True)\n",
    "df.drop(df[df.target < 5000].index, axis = 0, inplace = True)"
   ]
  }
 ],
 "metadata": {
  "kernelspec": {
   "display_name": "Python 3",
   "language": "python",
   "name": "python3"
  },
  "language_info": {
   "codemirror_mode": {
    "name": "ipython",
    "version": 3
   },
   "file_extension": ".py",
   "mimetype": "text/x-python",
   "name": "python",
   "nbconvert_exporter": "python",
   "pygments_lexer": "ipython3",
   "version": "3.6.5"
  }
 },
 "nbformat": 4,
 "nbformat_minor": 2
}
